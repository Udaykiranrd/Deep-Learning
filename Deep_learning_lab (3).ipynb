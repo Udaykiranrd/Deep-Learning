{
  "cells": [
    {
      "cell_type": "markdown",
      "metadata": {
        "id": "1bYdBXY5-_bd"
      },
      "source": [
        "Lab1:\n",
        "\n",
        "30/12/2024"
      ]
    },
    {
      "cell_type": "markdown",
      "source": [
        "Implement a perceptron for binary classification (AND gate).\n",
        "\n",
        "**Key Features:**\n",
        "\n",
        "Includes a step_function for activation.\n",
        "\n",
        "Implements a Perceptron class with methods for prediction and training.\n",
        "\n",
        "Uses random initialization for weights and bias.\n",
        "\n",
        "Trains the perceptron using sample data for an AND gate.\n",
        "\n",
        "Outputs test predictions.\n"
      ],
      "metadata": {
        "id": "aRKr6pVqrV6T"
      }
    },
    {
      "cell_type": "code",
      "execution_count": null,
      "metadata": {
        "colab": {
          "base_uri": "https://localhost:8080/"
        },
        "id": "5X1PYeqtBo7f",
        "outputId": "8c5010e1-c9e4-420d-fec8-df32bff6272a"
      },
      "outputs": [
        {
          "name": "stdout",
          "output_type": "stream",
          "text": [
            "Test predictions: \n",
            "Input: [0 0], Prediction: 0\n",
            "Input: [0 1], Prediction: 0\n",
            "Input: [1 0], Prediction: 0\n",
            "Input: [1 1], Prediction: 1\n"
          ]
        }
      ],
      "source": [
        "import numpy as np\n",
        "\n",
        "# Activation function (step function)\n",
        "def step_function(x):\n",
        "    return 1 if x >= 0 else 0\n",
        "\n",
        "# Perceptron class\n",
        "class Perceptron:\n",
        "    def __init__(self, input_size, learning_rate=0.1):\n",
        "        self.weights = np.random.randn(input_size)\n",
        "        self.bias = np.random.randn()\n",
        "        self.learning_rate = learning_rate\n",
        "\n",
        "    def predict(self, inputs):\n",
        "        summation = np.dot(inputs, self.weights) + self.bias\n",
        "        return step_function(summation)\n",
        "\n",
        "    def train(self, inputs, labels, epochs=100):\n",
        "        for _ in range(epochs):\n",
        "            for input_vector, label in zip(inputs, labels):\n",
        "                prediction = self.predict(input_vector)\n",
        "                error = label - prediction\n",
        "                # Update weights and bias\n",
        "                self.weights += self.learning_rate * error * input_vector\n",
        "                self.bias += self.learning_rate * error\n",
        "\n",
        "# Sample data for binary classification (AND gate)\n",
        "inputs = np.array([[0, 0], [0, 1], [1, 0], [1, 1]])\n",
        "labels = np.array([0, 0, 0, 1])  # AND gate output\n",
        "\n",
        "# Create and train the perceptron\n",
        "perceptron = Perceptron(input_size=2)\n",
        "perceptron.train(inputs, labels)\n",
        "\n",
        "# Test the perceptron\n",
        "print(\"Test predictions: \")\n",
        "for input_vector in inputs:\n",
        "    prediction = perceptron.predict(input_vector)\n",
        "    print(f\"Input: {input_vector}, Prediction: {prediction}\")"
      ]
    },
    {
      "cell_type": "markdown",
      "source": [
        "Test the perceptron on a different dataset (OR gate).\n",
        "\n",
        "\n",
        "**Key Features:**\n",
        "\n",
        "Reuses the Perceptron class.\n",
        "\n",
        "\n",
        "Trains and evaluates the perceptron on sample data for an OR gate.\n",
        "\n",
        "\n",
        "Outputs predictions for each input.\n",
        "\n",
        "\n"
      ],
      "metadata": {
        "id": "Hk0J9Btgraj0"
      }
    },
    {
      "cell_type": "code",
      "execution_count": null,
      "metadata": {
        "colab": {
          "base_uri": "https://localhost:8080/"
        },
        "id": "vMQIIVodBKbN",
        "outputId": "6726a1a6-1e12-46fa-ebe6-540b06528b56"
      },
      "outputs": [
        {
          "name": "stdout",
          "output_type": "stream",
          "text": [
            "Test predictions: \n",
            "Input: [0 0], Prediction: 0\n",
            "Input: [0 1], Prediction: 1\n",
            "Input: [1 0], Prediction: 1\n",
            "Input: [1 1], Prediction: 1\n"
          ]
        }
      ],
      "source": [
        "# Sample data for binary classification (OR gate)\n",
        "inputs = np.array([[0, 0], [0, 1], [1, 0], [1, 1]])\n",
        "labels = np.array([0, 1, 1, 1])  # OR gate output\n",
        "\n",
        "# Create and train the perceptron\n",
        "perceptron = Perceptron(input_size=2)\n",
        "perceptron.train(inputs, labels)\n",
        "\n",
        "# Test the perceptron\n",
        "print(\"Test predictions: \")\n",
        "for input_vector in inputs:\n",
        "    prediction = perceptron.predict(input_vector)\n",
        "    print(f\"Input: {input_vector}, Prediction: {prediction}\")"
      ]
    },
    {
      "cell_type": "markdown",
      "source": [
        "Train a perceptron on the Iris dataset.\n",
        "\n",
        "**Key Features:**\n",
        "\n",
        "Loads the Iris dataset and selects binary target labels.\n",
        "\n",
        "Splits the dataset into training and testing sets.\n",
        "\n",
        "Implements and trains a perceptron using custom logic.\n",
        "\n",
        "Evaluates the perceptron and prints the accuracy.\n"
      ],
      "metadata": {
        "id": "YZY0Bxtfr4C4"
      }
    },
    {
      "cell_type": "code",
      "execution_count": null,
      "metadata": {
        "colab": {
          "base_uri": "https://localhost:8080/"
        },
        "id": "80Zjs2UECw2Y",
        "outputId": "07358f42-1cb7-4df1-fee3-9788e6c99b0f"
      },
      "outputs": [
        {
          "name": "stdout",
          "output_type": "stream",
          "text": [
            "Accuracy: 0.96\n"
          ]
        }
      ],
      "source": [
        "from sklearn.datasets import load_iris\n",
        "from sklearn.model_selection import train_test_split\n",
        "from sklearn.metrics import accuracy_score\n",
        "import numpy as np\n",
        "\n",
        "# Load the Iris dataset\n",
        "iris = load_iris()\n",
        "\n",
        "# Select features and labels\n",
        "X = iris.data[:, (0, 1)]  # Sepal length, sepal width\n",
        "y = (iris.target == 0).astype(int)  # Binary target: 1 if class 0, else 0\n",
        "\n",
        "# Split the dataset\n",
        "X_train, X_test, y_train, y_test = train_test_split(X, y, test_size=0.5, random_state=42)\n",
        "\n",
        "# Perceptron class\n",
        "class Perceptron:\n",
        "    def __init__(self, learning_rate, epochs):\n",
        "        self.weights = None\n",
        "        self.bias = None\n",
        "        self.learning_rate = learning_rate\n",
        "        self.epochs = epochs\n",
        "\n",
        "    # Heaviside activation function\n",
        "    def activation(self, z):\n",
        "        return np.heaviside(z, 0).astype(int)  # Ensure integer output\n",
        "\n",
        "    def fit(self, X, y):\n",
        "        n_features = X.shape[1]\n",
        "\n",
        "        # Initialize weights and bias\n",
        "        self.weights = np.zeros(n_features)\n",
        "        self.bias = 0\n",
        "\n",
        "        # Iterate for the number of epochs\n",
        "        for epoch in range(self.epochs):\n",
        "            # Loop through the training set\n",
        "            for i in range(len(X)):\n",
        "                z = np.dot(X[i], self.weights) + self.bias  # Dot product for one sample\n",
        "                y_pred = self.activation(z)  # Pass through activation function\n",
        "\n",
        "                # Update weights and bias\n",
        "                self.weights += self.learning_rate * (y[i] - y_pred) * X[i]\n",
        "                self.bias += self.learning_rate * (y[i] - y_pred)\n",
        "\n",
        "    def predict(self, X):\n",
        "        z = np.dot(X, self.weights) + self.bias  # Dot product for all samples\n",
        "        return self.activation(z)\n",
        "\n",
        "# Create a Perceptron instance\n",
        "perceptron = Perceptron(learning_rate=0.001, epochs=100)\n",
        "\n",
        "# Train the Perceptron\n",
        "perceptron.fit(X_train, y_train)\n",
        "\n",
        "# Make predictions\n",
        "pred = perceptron.predict(X_test)\n",
        "\n",
        "# Evaluate accuracy\n",
        "accuracy = accuracy_score(y_test, pred)\n",
        "print(f\"Accuracy: {accuracy:.2f}\")\n"
      ]
    },
    {
      "cell_type": "markdown",
      "metadata": {
        "id": "9dYIw5I5I6Jx"
      },
      "source": [
        "**Programming Assignment - 1**"
      ]
    },
    {
      "cell_type": "markdown",
      "source": [
        "**Step1:**\n",
        "\n",
        "Select a Dataset:\n",
        "Use a simple, publicly available dataset for binary classification (e.g., Titanic dataset with two\n",
        "classes, or a custom dataset where the target is binary).\n",
        "Load the Titanic dataset."
      ],
      "metadata": {
        "id": "VLzbGxBSjREg"
      }
    },
    {
      "cell_type": "markdown",
      "source": [
        "\n",
        "\n",
        "**Key Features:**\n",
        "\n",
        "Loads the dataset from a GitHub URL.\n",
        "\n",
        "Displays the first five rows of the dataset.\n",
        "\n",
        "Provides information about dataset columns and types."
      ],
      "metadata": {
        "id": "0K9K323psLMH"
      }
    },
    {
      "cell_type": "code",
      "source": [
        "# Load the Titanic dataset\n",
        "url = \"https://raw.githubusercontent.com/datasciencedojo/datasets/master/titanic.csv\"\n",
        "data = pd.read_csv(url)\n",
        "print(data.head())  # Display the first 5 rows of the dataset\n",
        "print(data.info())"
      ],
      "metadata": {
        "colab": {
          "base_uri": "https://localhost:8080/"
        },
        "id": "6nRKEfC9c0of",
        "outputId": "1fa37cef-6cb5-435c-fdc9-9c01611dd3a1"
      },
      "execution_count": null,
      "outputs": [
        {
          "output_type": "stream",
          "name": "stdout",
          "text": [
            "   PassengerId  Survived  Pclass  \\\n",
            "0            1         0       3   \n",
            "1            2         1       1   \n",
            "2            3         1       3   \n",
            "3            4         1       1   \n",
            "4            5         0       3   \n",
            "\n",
            "                                                Name     Sex   Age  SibSp  \\\n",
            "0                            Braund, Mr. Owen Harris    male  22.0      1   \n",
            "1  Cumings, Mrs. John Bradley (Florence Briggs Th...  female  38.0      1   \n",
            "2                             Heikkinen, Miss. Laina  female  26.0      0   \n",
            "3       Futrelle, Mrs. Jacques Heath (Lily May Peel)  female  35.0      1   \n",
            "4                           Allen, Mr. William Henry    male  35.0      0   \n",
            "\n",
            "   Parch            Ticket     Fare Cabin Embarked  \n",
            "0      0         A/5 21171   7.2500   NaN        S  \n",
            "1      0          PC 17599  71.2833   C85        C  \n",
            "2      0  STON/O2. 3101282   7.9250   NaN        S  \n",
            "3      0            113803  53.1000  C123        S  \n",
            "4      0            373450   8.0500   NaN        S  \n",
            "<class 'pandas.core.frame.DataFrame'>\n",
            "RangeIndex: 891 entries, 0 to 890\n",
            "Data columns (total 12 columns):\n",
            " #   Column       Non-Null Count  Dtype  \n",
            "---  ------       --------------  -----  \n",
            " 0   PassengerId  891 non-null    int64  \n",
            " 1   Survived     891 non-null    int64  \n",
            " 2   Pclass       891 non-null    int64  \n",
            " 3   Name         891 non-null    object \n",
            " 4   Sex          891 non-null    object \n",
            " 5   Age          714 non-null    float64\n",
            " 6   SibSp        891 non-null    int64  \n",
            " 7   Parch        891 non-null    int64  \n",
            " 8   Ticket       891 non-null    object \n",
            " 9   Fare         891 non-null    float64\n",
            " 10  Cabin        204 non-null    object \n",
            " 11  Embarked     889 non-null    object \n",
            "dtypes: float64(2), int64(5), object(5)\n",
            "memory usage: 83.7+ KB\n",
            "None\n"
          ]
        }
      ]
    },
    {
      "cell_type": "markdown",
      "source": [
        "**Step2:**\n",
        "\n",
        "Install necessary libraries (e.g., NumPy, pandas, Matplotlib, Scikit-learn)."
      ],
      "metadata": {
        "id": "PfeBIhDzj4Cg"
      }
    },
    {
      "cell_type": "code",
      "source": [
        "# Import libraries\n",
        "import numpy as np\n",
        "import pandas as pd\n",
        "import matplotlib.pyplot as plt\n",
        "from sklearn.model_selection import train_test_split\n",
        "from sklearn.metrics import accuracy_score\n"
      ],
      "metadata": {
        "id": "Q9SKWs0EerS1"
      },
      "execution_count": null,
      "outputs": []
    },
    {
      "cell_type": "markdown",
      "source": [
        "**Step3:**\n",
        "\n",
        "Preprocess the Titanic dataset.\n"
      ],
      "metadata": {
        "id": "WXCxQTzes2x4"
      }
    },
    {
      "cell_type": "markdown",
      "source": [
        "**Key Features:**\n",
        "\n",
        "Retains relevant columns (Pclass, Sex, Age, Fare, Survived).\n",
        "\n",
        "Handles missing values in the Age column by filling with the mean.\n",
        "\n",
        "Converts the categorical Sex column to numerical format.\n",
        "\n",
        "Splits data into features (X) and target (y) for training and testing."
      ],
      "metadata": {
        "id": "gxDUFSyIs_RE"
      }
    },
    {
      "cell_type": "code",
      "source": [
        "# Preprocessing: Keep relevant columns and create a copy\n",
        "data = data[['Pclass', 'Sex', 'Age', 'Fare', 'Survived']].copy()\n",
        "\n",
        "# Handle missing values\n",
        "data['Age'] = data['Age'].fillna(data['Age'].mean())\n",
        "\n",
        "# Convert categorical column 'Sex' to numerical\n",
        "data['Sex'] = data['Sex'].map({'male': 0, 'female': 1})\n",
        "\n",
        "# Features (X) and target (y)\n",
        "X = data[['Pclass', 'Sex', 'Age', 'Fare']].values\n",
        "y = data['Survived'].values\n",
        "\n",
        "# Split the data\n",
        "X_train, X_test, y_train, y_test = train_test_split(X, y, test_size=0.2, random_state=42)\n"
      ],
      "metadata": {
        "id": "T1Ymg1HsfaYp"
      },
      "execution_count": null,
      "outputs": []
    },
    {
      "cell_type": "markdown",
      "source": [
        "**Step4:**\n",
        "\n",
        "Use the step activation function to implement the perceptron model."
      ],
      "metadata": {
        "id": "mB5fPAIPkDs1"
      }
    },
    {
      "cell_type": "markdown",
      "source": [
        "**Key Features:**\n",
        "\n",
        "Implements the perceptron with custom training logic.\n",
        "\n",
        "Uses the Titanic dataset for binary classification."
      ],
      "metadata": {
        "id": "A98zWlfqtUr4"
      }
    },
    {
      "cell_type": "code",
      "source": [
        "# Step activation function\n",
        "def step_function(z):\n",
        "    return np.where(z > 0, 1, 0)\n",
        "\n",
        "# Perceptron class\n",
        "class Perceptron:\n",
        "    def __init__(self, learning_rate=0.01, epochs=1000):\n",
        "        self.learning_rate = learning_rate\n",
        "        self.epochs = epochs\n",
        "\n",
        "    def fit(self, X, y):\n",
        "        self.weights = np.zeros(X.shape[1])\n",
        "        self.bias = 0\n",
        "        self.errors = []\n",
        "\n",
        "        for _ in range(self.epochs):\n",
        "            error_count = 0\n",
        "            for xi, target in zip(X, y):\n",
        "                z = np.dot(xi, self.weights) + self.bias\n",
        "                prediction = step_function(z)\n",
        "                error = target - prediction\n",
        "                if error != 0:\n",
        "                    self.weights += self.learning_rate * error * xi\n",
        "                    self.bias += self.learning_rate * error\n",
        "                    error_count += 1\n",
        "            self.errors.append(error_count)\n",
        "\n",
        "    def predict(self, X):\n",
        "        z = np.dot(X, self.weights) + self.bias\n",
        "        return step_function(z)\n",
        "\n",
        "# Initialize and train the perceptron\n",
        "model = Perceptron(learning_rate=0.01, epochs=1000)\n",
        "model.fit(X_train, y_train)\n",
        "\n",
        "# Predictions\n",
        "y_pred_manual = model.predict(X_test)\n",
        "print(\"Perceptron Accuracy:\", accuracy_score(y_test, y_pred_manual))\n"
      ],
      "metadata": {
        "colab": {
          "base_uri": "https://localhost:8080/"
        },
        "id": "nivshrOzf4Zz",
        "outputId": "6d7964e9-fcde-4b66-b533-9837bdb7b4df"
      },
      "execution_count": null,
      "outputs": [
        {
          "output_type": "stream",
          "name": "stdout",
          "text": [
            "Perceptron Accuracy: 0.7877094972067039\n"
          ]
        }
      ]
    },
    {
      "cell_type": "markdown",
      "source": [
        "**Step5:**\n",
        "\n",
        "Implement the perceptron from scratch and  using a framework (e.g., Scikit-learn)."
      ],
      "metadata": {
        "id": "E7OANqdQwlFE"
      }
    },
    {
      "cell_type": "code",
      "source": [
        "# Preprocessing: Keep relevant columns and handle missing values\n",
        "data = data[['Pclass', 'Sex', 'Age', 'Fare', 'Survived']].copy()\n",
        "\n",
        "# Fill missing values for 'Age' and 'Fare'\n",
        "data['Age'] = data['Age'].fillna(data['Age'].mean())\n",
        "data['Fare'] = data['Fare'].fillna(data['Fare'].mean())\n",
        "\n",
        "# Convert categorical column 'Sex' to numerical\n",
        "data['Sex'] = data['Sex'].map({'male': 0, 'female': 1})\n",
        "\n",
        "# Features (X) and target (y)\n",
        "X = data[['Pclass', 'Sex', 'Age', 'Fare']].values\n",
        "y = data['Survived'].values\n",
        "\n",
        "# Split the data\n",
        "from sklearn.model_selection import train_test_split\n",
        "X_train, X_test, y_train, y_test = train_test_split(X, y, test_size=0.2, random_state=42)\n",
        "\n",
        "# Ensure no NaN values in training and testing sets\n",
        "X_train = np.nan_to_num(X_train)\n",
        "X_test = np.nan_to_num(X_test)\n",
        "\n",
        "# Train the Perceptron\n",
        "from sklearn.linear_model import Perceptron\n",
        "clf = Perceptron(max_iter=1000, eta0=0.01, random_state=42)\n",
        "\n",
        "# Fit the model\n",
        "clf.fit(X_train, y_train)\n",
        "\n",
        "# Predictions\n",
        "from sklearn.metrics import accuracy_score\n",
        "y_pred_sklearn = clf.predict(X_test)\n",
        "print(\"Scikit-Learn Perceptron Accuracy:\", accuracy_score(y_test, y_pred_sklearn))\n"
      ],
      "metadata": {
        "colab": {
          "base_uri": "https://localhost:8080/"
        },
        "id": "xnVT78M3gniL",
        "outputId": "c2b3aacd-9816-4c5a-a999-1deb355730bd"
      },
      "execution_count": null,
      "outputs": [
        {
          "output_type": "stream",
          "name": "stdout",
          "text": [
            "Scikit-Learn Perceptron Accuracy: 0.6536312849162011\n"
          ]
        }
      ]
    },
    {
      "cell_type": "markdown",
      "source": [
        "**Step6:**\n",
        "\n",
        "To track the progress of the Perceptron model during training, we can visualize how the total number of errors reduces with each iteration:"
      ],
      "metadata": {
        "id": "2HP2LFcbxXCY"
      }
    },
    {
      "cell_type": "code",
      "source": [
        "# Visualize the training errors\n",
        "plt.plot(range(len(perceptron.errors)), perceptron.errors)\n",
        "plt.xlabel(\"Iterations\")\n",
        "plt.ylabel(\"Total Errors\")\n",
        "plt.title(\"Error Reduction Over Iterations\")\n",
        "plt.show()"
      ],
      "metadata": {
        "colab": {
          "base_uri": "https://localhost:8080/",
          "height": 472
        },
        "id": "5HJCTYx1g1gF",
        "outputId": "c8c2d582-8fc4-4ce6-8d3b-88eb2520e204"
      },
      "execution_count": null,
      "outputs": [
        {
          "output_type": "display_data",
          "data": {
            "text/plain": [
              "<Figure size 640x480 with 1 Axes>"
            ],
            "image/png": "[encoded data removed]"
          },
          "metadata": {}
        }
      ]
    },
    {
      "cell_type": "markdown",
      "source": [
        "**Limitations of the Perceptron**\n",
        "1.\t**Inability to Handle Non-Linearly Separable Data:**\n",
        "\n",
        "  The Perceptron fails if the data is not linearly separable and cannot converge to a solution. For example, it cannot solve the XOR problem.\n",
        "2.\t**No Probabilistic Output:**\n",
        "  \n",
        "  The Perceptron provides only binary outputs (0 or 1) and does not give the probability of belonging to a class.\n",
        "3.\t**Sensitive to Learning Rate:**\n",
        "  \n",
        "  A poorly chosen learning rate η can lead to slow convergence or divergence.\n",
        "4.\t**Single-Layer Architecture:**\n",
        "  \n",
        "  The basic Perceptron cannot handle more complex problems involving multiple layers.\n"
      ],
      "metadata": {
        "id": "JNYd5fpByF7b"
      }
    },
    {
      "cell_type": "markdown",
      "source": [
        "\n",
        "**Observations**\n",
        "\n",
        "**Good Performance for Logical Models:**\n",
        "\n",
        "  1)Predicted labels align with expectations for logic gates (AND/OR).\n",
        "  \n",
        "  2)Accuracy metrics reflect strong model training on simple logic datasets.\n",
        "  \n",
        "**Challenges with Missing Data:**\n",
        "\n",
        "  1)Titanic dataset has significant missing values in Age and Cabin.\n",
        "\n",
        "  2)Addressing these gaps is critical for downstream analysis.\n",
        "\n",
        "**Perceptron Model Accuracy:**\n",
        "\n",
        " 1)Accuracy differences between manual and Scikit-Learn implementations, Potential variations in hyperparameter settings or convergence criteria.\n",
        "  \n",
        "  2) Highlights the need for parameter tuning in pre-built models.\n",
        "\n",
        "**Imbalance in Accuracy:**\n",
        "\n",
        "  1)Logical problems yielded very high accuracy.\n",
        "\n",
        "  2)Perceptron results for more complex datasets underperformed, indicating possible overfitting or poor generalization.\n",
        "\n",
        "**Visualization Insights:**\n",
        "\n",
        "  1)Plots might demonstrate decision boundaries or distribution of features."
      ],
      "metadata": {
        "id": "NrtjyF8VyXVc"
      }
    },
    {
      "cell_type": "markdown",
      "source": [
        "**Programming Assignment - 2**"
      ],
      "metadata": {
        "id": "TAEkMsHFeOlV"
      }
    },
    {
      "cell_type": "markdown",
      "source": [
        "Solve a multi-class classification using single layer perceptron.\n"
      ],
      "metadata": {
        "id": "X4p5LGPVeUpU"
      }
    },
    {
      "cell_type": "markdown",
      "source": [
        "**Single perceptron**\n",
        "\n",
        "**Dataset:** Breast Cancer Dataset"
      ],
      "metadata": {
        "id": "AmWX9l3ngR2z"
      }
    },
    {
      "cell_type": "markdown",
      "source": [
        "**Step1:**\n",
        "\n",
        "Install necessary libraries (e.g., NumPy, pandas, Matplotlib, Scikit-learn)."
      ],
      "metadata": {
        "id": "oO443-ZyhFOO"
      }
    },
    {
      "cell_type": "code",
      "source": [
        "import numpy as np\n",
        "import matplotlib.pyplot as plt\n",
        "from sklearn.datasets import load_breast_cancer\n",
        "from sklearn.model_selection import train_test_split\n",
        "from sklearn.preprocessing import StandardScaler\n",
        "from sklearn.metrics import accuracy_score"
      ],
      "metadata": {
        "id": "J1Qd7-Ilet8U"
      },
      "execution_count": 1,
      "outputs": []
    },
    {
      "cell_type": "markdown",
      "source": [
        "**Step 2:**\n",
        "\n",
        "Load and preprocess the dataset"
      ],
      "metadata": {
        "id": "AjM0M8PCg_U_"
      }
    },
    {
      "cell_type": "code",
      "source": [
        "cancer_data = load_breast_cancer()\n",
        "X, y = cancer_data.data, cancer_data.target\n",
        "\n",
        "# Select only two features for visualization purposes\n",
        "X = X[:, :2]\n",
        "\n",
        "# Split into train and test sets\n",
        "X_train, X_test, y_train, y_test = train_test_split(X, y, test_size=0.3, random_state=42)\n",
        "\n",
        "# Standardize the dataset\n",
        "scaler = StandardScaler()\n",
        "X_train = scaler.fit_transform(X_train)\n",
        "X_test = scaler.transform(X_test)"
      ],
      "metadata": {
        "id": "re42sy5shVMQ"
      },
      "execution_count": 3,
      "outputs": []
    },
    {
      "cell_type": "markdown",
      "source": [
        "**Step 3:**\n",
        "\n",
        "Train a single perceptron"
      ],
      "metadata": {
        "id": "frkND68-hqjA"
      }
    },
    {
      "cell_type": "code",
      "source": [
        "#Initialize weights and bias\n",
        "weights = np.zeros(X_train.shape[1])\n",
        "bias = 0\n",
        "learning_rate = 0.01\n",
        "epochs = 50\n",
        "\n",
        "# Perceptron training loop\n",
        "for epoch in range(epochs):\n",
        "    for i in range(X_train.shape[0]):\n",
        "        # Compute activation\n",
        "        activation = np.dot(weights, X_train[i]) + bias\n",
        "        prediction = 1 if activation >= 0 else 0\n",
        "\n",
        "        # Update weights if misclassified\n",
        "        if prediction != y_train[i]:\n",
        "            weights += learning_rate * (y_train[i] - prediction) * X_train[i]\n",
        "            bias += learning_rate * (y_train[i] - prediction)\n"
      ],
      "metadata": {
        "id": "dCH1cYklhZ_x"
      },
      "execution_count": 5,
      "outputs": []
    },
    {
      "cell_type": "markdown",
      "source": [
        "**Step 4:**\n",
        "\n",
        "Evaluate the perceptron"
      ],
      "metadata": {
        "id": "a9r9MMnch0wW"
      }
    },
    {
      "cell_type": "code",
      "source": [
        "# Prediction function\n",
        "def predict(X):\n",
        "    return [1 if np.dot(weights, x) + bias >= 0 else 0 for x in X]\n",
        "\n",
        "# Predict on test set\n",
        "y_pred = predict(X_test)\n",
        "accuracy = accuracy_score(y_test, y_pred)\n",
        "print(f\"Accuracy on the test set: {accuracy:.2f}\")"
      ],
      "metadata": {
        "colab": {
          "base_uri": "https://localhost:8080/"
        },
        "id": "xXtmjDjth0BI",
        "outputId": "eb780452-828c-4993-c163-6187463442a0"
      },
      "execution_count": 6,
      "outputs": [
        {
          "output_type": "stream",
          "name": "stdout",
          "text": [
            "Accuracy on the test set: 0.78\n"
          ]
        }
      ]
    },
    {
      "cell_type": "markdown",
      "source": [
        "**Step 5:**\n",
        "\n",
        "Visualize the decision boundary"
      ],
      "metadata": {
        "id": "y60xWVi6jClW"
      }
    },
    {
      "cell_type": "code",
      "source": [
        "def plot_decision_boundary(X, y, weights, bias):\n",
        "    plt.figure(figsize=(8, 6))\n",
        "\n",
        "    # Scatter plot of data points\n",
        "    for label in np.unique(y):\n",
        "        plt.scatter(X[y == label, 0], X[y == label, 1], label=f\"Class {label}\")\n",
        "\n",
        "    # Decision boundary\n",
        "    x_values = np.linspace(X[:, 0].min(), X[:, 0].max(), 100)\n",
        "    y_values = -(weights[0] * x_values + bias) / weights[1]\n",
        "    plt.plot(x_values, y_values, label=\"Decision Boundary\", color=\"black\")\n",
        "\n",
        "    plt.xlabel(\"Feature 1\")\n",
        "    plt.ylabel(\"Feature 2\")\n",
        "    plt.title(\"Decision Boundary for Single Perceptron\")\n",
        "    plt.legend()\n",
        "    plt.show()\n",
        "\n",
        "plot_decision_boundary(X_test, y_test, weights, bias)\n"
      ],
      "metadata": {
        "colab": {
          "base_uri": "https://localhost:8080/",
          "height": 564
        },
        "id": "TPveQcu0iHY9",
        "outputId": "f0c39781-bd3c-4429-c038-4c34e4dd7fe0"
      },
      "execution_count": 7,
      "outputs": [
        {
          "output_type": "display_data",
          "data": {
            "text/plain": [
              "<Figure size 800x600 with 1 Axes>"
            ],
            "image/png": "[encoded data removed]"
          },
          "metadata": {}
        }
      ]
    },
    {
      "cell_type": "markdown",
      "source": [
        "**Single layer perceptron**\n",
        "(multi-class classification)\n",
        "\n"
      ],
      "metadata": {
        "id": "6nTE9AAuigzG"
      }
    },
    {
      "cell_type": "markdown",
      "source": [
        "**Step1:**\n",
        "\n",
        "Install necessary libraries"
      ],
      "metadata": {
        "id": "rVKcX-1zk20-"
      }
    },
    {
      "cell_type": "code",
      "source": [
        "from sklearn.datasets import load_digits\n",
        "from sklearn.metrics import accuracy_score"
      ],
      "metadata": {
        "id": "JGQpod62iLb-"
      },
      "execution_count": 12,
      "outputs": []
    },
    {
      "cell_type": "markdown",
      "source": [
        "**Step 2:**\n",
        "\n",
        "Load and preprocess the dataset\n",
        "\n",
        "**Dataset:** Digits data"
      ],
      "metadata": {
        "id": "NaiLFPqbjLvm"
      }
    },
    {
      "cell_type": "code",
      "source": [
        "# Load Digits dataset\n",
        "digits_data = load_digits()\n",
        "X, y = digits_data.data, digits_data.target\n",
        "\n",
        "# Split into train and test sets\n",
        "X_train, X_test, y_train, y_test = train_test_split(X, y, test_size=0.3, random_state=42)\n",
        "\n",
        "# Standardize the dataset\n",
        "X_train = scaler.fit_transform(X_train)\n",
        "X_test = scaler.transform(X_test)"
      ],
      "metadata": {
        "id": "miHWJmx5jBni"
      },
      "execution_count": 13,
      "outputs": []
    },
    {
      "cell_type": "markdown",
      "source": [
        "**Step 3:**\n",
        "\n",
        "Train a single-layer perceptron using One-vs-All"
      ],
      "metadata": {
        "id": "Oxcp6BEajqgY"
      }
    },
    {
      "cell_type": "code",
      "source": [
        "num_classes = len(np.unique(y))\n",
        "num_features = X_train.shape[1]\n",
        "weights = np.zeros((num_classes, num_features))\n",
        "biases = np.zeros(num_classes)\n",
        "\n",
        "# Training loop\n",
        "for cls in range(num_classes):\n",
        "    binary_labels = np.where(y_train == cls, 1, -1)  # Convert to binary for this class\n",
        "    for epoch in range(epochs):\n",
        "        for i in range(X_train.shape[0]):\n",
        "            activation = np.dot(weights[cls], X_train[i]) + biases[cls]\n",
        "            prediction = 1 if activation >= 0 else -1\n",
        "            if prediction != binary_labels[i]:\n",
        "                weights[cls] += learning_rate * binary_labels[i] * X_train[i]\n",
        "                biases[cls] += learning_rate * binary_labels[i]"
      ],
      "metadata": {
        "id": "JBToyP8MjVWn"
      },
      "execution_count": 14,
      "outputs": []
    },
    {
      "cell_type": "markdown",
      "source": [
        "**Step 4:**\n",
        "\n",
        "Predict on the test set"
      ],
      "metadata": {
        "id": "gh4thRTXj7Cx"
      }
    },
    {
      "cell_type": "code",
      "source": [
        "def predict_multiclass(X):\n",
        "    activations = np.dot(weights, X.T) + biases[:, np.newaxis]\n",
        "    return np.argmax(activations, axis=0)\n",
        "\n",
        "y_pred = predict_multiclass(X_test)\n",
        "accuracy = accuracy_score(y_test, y_pred)\n",
        "print(f\"Accuracy on the test set: {accuracy:.2f}\")\n"
      ],
      "metadata": {
        "colab": {
          "base_uri": "https://localhost:8080/"
        },
        "id": "wIfpKlSYj62e",
        "outputId": "015ce99d-763e-4977-caef-88fa6fc3d3cf"
      },
      "execution_count": 15,
      "outputs": [
        {
          "output_type": "stream",
          "name": "stdout",
          "text": [
            "Accuracy on the test set: 0.94\n"
          ]
        }
      ]
    }
  ],
  "metadata": {
    "colab": {
      "provenance": []
    },
    "kernelspec": {
      "display_name": "Python 3",
      "name": "python3"
    },
    "language_info": {
      "name": "python"
    }
  },
  "nbformat": 4,
  "nbformat_minor": 0
}