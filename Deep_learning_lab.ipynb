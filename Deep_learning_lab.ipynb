{
  "cells": [
    {
      "cell_type": "markdown",
      "metadata": {
        "id": "view-in-github",
        "colab_type": "text"
      },
      "source": [
        "<a href=\"https://colab.research.google.com/github/Udaykiranrd/Deep-Learning/blob/main/Deep_learning_lab.ipynb\" target=\"_parent\"><img src=\"https://colab.research.google.com/assets/colab-badge.svg\" alt=\"Open In Colab\"/></a>"
      ]
    },
    {
      "cell_type": "markdown",
      "metadata": {
        "id": "6WHRdtRS6oRi"
      },
      "source": [
        "**Name:** Gudipally Uday Kiran Reddy\n",
        "\n",
        "**Student Id:** 22WU0104043"
      ]
    },
    {
      "cell_type": "markdown",
      "metadata": {
        "id": "1bYdBXY5-_bd"
      },
      "source": [
        "Lab1:\n",
        "\n",
        "30/12/2024"
      ]
    },
    {
      "cell_type": "markdown",
      "metadata": {
        "id": "aRKr6pVqrV6T"
      },
      "source": [
        "Implement a perceptron for binary classification (AND gate).\n",
        "\n",
        "**Key Features:**\n",
        "\n",
        "Includes a step_function for activation.\n",
        "\n",
        "Implements a Perceptron class with methods for prediction and training.\n",
        "\n",
        "Uses random initialization for weights and bias.\n",
        "\n",
        "Trains the perceptron using sample data for an AND gate.\n",
        "\n",
        "Outputs test predictions.\n"
      ]
    },
    {
      "cell_type": "code",
      "execution_count": null,
      "metadata": {
        "colab": {
          "base_uri": "https://localhost:8080/"
        },
        "id": "5X1PYeqtBo7f",
        "outputId": "8c5010e1-c9e4-420d-fec8-df32bff6272a"
      },
      "outputs": [
        {
          "name": "stdout",
          "output_type": "stream",
          "text": [
            "Test predictions: \n",
            "Input: [0 0], Prediction: 0\n",
            "Input: [0 1], Prediction: 0\n",
            "Input: [1 0], Prediction: 0\n",
            "Input: [1 1], Prediction: 1\n"
          ]
        }
      ],
      "source": [
        "import numpy as np\n",
        "\n",
        "# Activation function (step function)\n",
        "def step_function(x):\n",
        "    return 1 if x >= 0 else 0\n",
        "\n",
        "# Perceptron class\n",
        "class Perceptron:\n",
        "    def __init__(self, input_size, learning_rate=0.1):\n",
        "        self.weights = np.random.randn(input_size)\n",
        "        self.bias = np.random.randn()\n",
        "        self.learning_rate = learning_rate\n",
        "\n",
        "    def predict(self, inputs):\n",
        "        summation = np.dot(inputs, self.weights) + self.bias\n",
        "        return step_function(summation)\n",
        "\n",
        "    def train(self, inputs, labels, epochs=100):\n",
        "        for _ in range(epochs):\n",
        "            for input_vector, label in zip(inputs, labels):\n",
        "                prediction = self.predict(input_vector)\n",
        "                error = label - prediction\n",
        "                # Update weights and bias\n",
        "                self.weights += self.learning_rate * error * input_vector\n",
        "                self.bias += self.learning_rate * error\n",
        "\n",
        "# Sample data for binary classification (AND gate)\n",
        "inputs = np.array([[0, 0], [0, 1], [1, 0], [1, 1]])\n",
        "labels = np.array([0, 0, 0, 1])  # AND gate output\n",
        "\n",
        "# Create and train the perceptron\n",
        "perceptron = Perceptron(input_size=2)\n",
        "perceptron.train(inputs, labels)\n",
        "\n",
        "# Test the perceptron\n",
        "print(\"Test predictions: \")\n",
        "for input_vector in inputs:\n",
        "    prediction = perceptron.predict(input_vector)\n",
        "    print(f\"Input: {input_vector}, Prediction: {prediction}\")"
      ]
    },
    {
      "cell_type": "markdown",
      "metadata": {
        "id": "Hk0J9Btgraj0"
      },
      "source": [
        "Test the perceptron on a different dataset (OR gate).\n",
        "\n",
        "\n",
        "**Key Features:**\n",
        "\n",
        "Reuses the Perceptron class.\n",
        "\n",
        "\n",
        "Trains and evaluates the perceptron on sample data for an OR gate.\n",
        "\n",
        "\n",
        "Outputs predictions for each input.\n",
        "\n",
        "\n"
      ]
    },
    {
      "cell_type": "code",
      "execution_count": null,
      "metadata": {
        "colab": {
          "base_uri": "https://localhost:8080/"
        },
        "id": "vMQIIVodBKbN",
        "outputId": "6726a1a6-1e12-46fa-ebe6-540b06528b56"
      },
      "outputs": [
        {
          "name": "stdout",
          "output_type": "stream",
          "text": [
            "Test predictions: \n",
            "Input: [0 0], Prediction: 0\n",
            "Input: [0 1], Prediction: 1\n",
            "Input: [1 0], Prediction: 1\n",
            "Input: [1 1], Prediction: 1\n"
          ]
        }
      ],
      "source": [
        "# Sample data for binary classification (OR gate)\n",
        "inputs = np.array([[0, 0], [0, 1], [1, 0], [1, 1]])\n",
        "labels = np.array([0, 1, 1, 1])  # OR gate output\n",
        "\n",
        "# Create and train the perceptron\n",
        "perceptron = Perceptron(input_size=2)\n",
        "perceptron.train(inputs, labels)\n",
        "\n",
        "# Test the perceptron\n",
        "print(\"Test predictions: \")\n",
        "for input_vector in inputs:\n",
        "    prediction = perceptron.predict(input_vector)\n",
        "    print(f\"Input: {input_vector}, Prediction: {prediction}\")"
      ]
    },
    {
      "cell_type": "markdown",
      "metadata": {
        "id": "YZY0Bxtfr4C4"
      },
      "source": [
        "Train a perceptron on the Iris dataset.\n",
        "\n",
        "**Key Features:**\n",
        "\n",
        "Loads the Iris dataset and selects binary target labels.\n",
        "\n",
        "Splits the dataset into training and testing sets.\n",
        "\n",
        "Implements and trains a perceptron using custom logic.\n",
        "\n",
        "Evaluates the perceptron and prints the accuracy.\n"
      ]
    },
    {
      "cell_type": "code",
      "execution_count": null,
      "metadata": {
        "colab": {
          "base_uri": "https://localhost:8080/"
        },
        "id": "80Zjs2UECw2Y",
        "outputId": "07358f42-1cb7-4df1-fee3-9788e6c99b0f"
      },
      "outputs": [
        {
          "name": "stdout",
          "output_type": "stream",
          "text": [
            "Accuracy: 0.96\n"
          ]
        }
      ],
      "source": [
        "from sklearn.datasets import load_iris\n",
        "from sklearn.model_selection import train_test_split\n",
        "from sklearn.metrics import accuracy_score\n",
        "import numpy as np\n",
        "\n",
        "# Load the Iris dataset\n",
        "iris = load_iris()\n",
        "\n",
        "# Select features and labels\n",
        "X = iris.data[:, (0, 1)]  # Sepal length, sepal width\n",
        "y = (iris.target == 0).astype(int)  # Binary target: 1 if class 0, else 0\n",
        "\n",
        "# Split the dataset\n",
        "X_train, X_test, y_train, y_test = train_test_split(X, y, test_size=0.5, random_state=42)\n",
        "\n",
        "# Perceptron class\n",
        "class Perceptron:\n",
        "    def __init__(self, learning_rate, epochs):\n",
        "        self.weights = None\n",
        "        self.bias = None\n",
        "        self.learning_rate = learning_rate\n",
        "        self.epochs = epochs\n",
        "\n",
        "    # Heaviside activation function\n",
        "    def activation(self, z):\n",
        "        return np.heaviside(z, 0).astype(int)  # Ensure integer output\n",
        "\n",
        "    def fit(self, X, y):\n",
        "        n_features = X.shape[1]\n",
        "\n",
        "        # Initialize weights and bias\n",
        "        self.weights = np.zeros(n_features)\n",
        "        self.bias = 0\n",
        "\n",
        "        # Iterate for the number of epochs\n",
        "        for epoch in range(self.epochs):\n",
        "            # Loop through the training set\n",
        "            for i in range(len(X)):\n",
        "                z = np.dot(X[i], self.weights) + self.bias  # Dot product for one sample\n",
        "                y_pred = self.activation(z)  # Pass through activation function\n",
        "\n",
        "                # Update weights and bias\n",
        "                self.weights += self.learning_rate * (y[i] - y_pred) * X[i]\n",
        "                self.bias += self.learning_rate * (y[i] - y_pred)\n",
        "\n",
        "    def predict(self, X):\n",
        "        z = np.dot(X, self.weights) + self.bias  # Dot product for all samples\n",
        "        return self.activation(z)\n",
        "\n",
        "# Create a Perceptron instance\n",
        "perceptron = Perceptron(learning_rate=0.001, epochs=100)\n",
        "\n",
        "# Train the Perceptron\n",
        "perceptron.fit(X_train, y_train)\n",
        "\n",
        "# Make predictions\n",
        "pred = perceptron.predict(X_test)\n",
        "\n",
        "# Evaluate accuracy\n",
        "accuracy = accuracy_score(y_test, pred)\n",
        "print(f\"Accuracy: {accuracy:.2f}\")\n"
      ]
    },
    {
      "cell_type": "markdown",
      "metadata": {
        "id": "9dYIw5I5I6Jx"
      },
      "source": [
        "**Programming Assignment - 1**"
      ]
    },
    {
      "cell_type": "markdown",
      "metadata": {
        "id": "VLzbGxBSjREg"
      },
      "source": [
        "**Step1:**\n",
        "\n",
        "Select a Dataset:\n",
        "Use a simple, publicly available dataset for binary classification (e.g., Titanic dataset with two\n",
        "classes, or a custom dataset where the target is binary).\n",
        "Load the Titanic dataset."
      ]
    },
    {
      "cell_type": "markdown",
      "metadata": {
        "id": "0K9K323psLMH"
      },
      "source": [
        "\n",
        "\n",
        "**Key Features:**\n",
        "\n",
        "Loads the dataset from a GitHub URL.\n",
        "\n",
        "Displays the first five rows of the dataset.\n",
        "\n",
        "Provides information about dataset columns and types."
      ]
    },
    {
      "cell_type": "code",
      "execution_count": null,
      "metadata": {
        "colab": {
          "base_uri": "https://localhost:8080/"
        },
        "id": "6nRKEfC9c0of",
        "outputId": "1fa37cef-6cb5-435c-fdc9-9c01611dd3a1"
      },
      "outputs": [
        {
          "name": "stdout",
          "output_type": "stream",
          "text": [
            "   PassengerId  Survived  Pclass  \\\n",
            "0            1         0       3   \n",
            "1            2         1       1   \n",
            "2            3         1       3   \n",
            "3            4         1       1   \n",
            "4            5         0       3   \n",
            "\n",
            "                                                Name     Sex   Age  SibSp  \\\n",
            "0                            Braund, Mr. Owen Harris    male  22.0      1   \n",
            "1  Cumings, Mrs. John Bradley (Florence Briggs Th...  female  38.0      1   \n",
            "2                             Heikkinen, Miss. Laina  female  26.0      0   \n",
            "3       Futrelle, Mrs. Jacques Heath (Lily May Peel)  female  35.0      1   \n",
            "4                           Allen, Mr. William Henry    male  35.0      0   \n",
            "\n",
            "   Parch            Ticket     Fare Cabin Embarked  \n",
            "0      0         A/5 21171   7.2500   NaN        S  \n",
            "1      0          PC 17599  71.2833   C85        C  \n",
            "2      0  STON/O2. 3101282   7.9250   NaN        S  \n",
            "3      0            113803  53.1000  C123        S  \n",
            "4      0            373450   8.0500   NaN        S  \n",
            "<class 'pandas.core.frame.DataFrame'>\n",
            "RangeIndex: 891 entries, 0 to 890\n",
            "Data columns (total 12 columns):\n",
            " #   Column       Non-Null Count  Dtype  \n",
            "---  ------       --------------  -----  \n",
            " 0   PassengerId  891 non-null    int64  \n",
            " 1   Survived     891 non-null    int64  \n",
            " 2   Pclass       891 non-null    int64  \n",
            " 3   Name         891 non-null    object \n",
            " 4   Sex          891 non-null    object \n",
            " 5   Age          714 non-null    float64\n",
            " 6   SibSp        891 non-null    int64  \n",
            " 7   Parch        891 non-null    int64  \n",
            " 8   Ticket       891 non-null    object \n",
            " 9   Fare         891 non-null    float64\n",
            " 10  Cabin        204 non-null    object \n",
            " 11  Embarked     889 non-null    object \n",
            "dtypes: float64(2), int64(5), object(5)\n",
            "memory usage: 83.7+ KB\n",
            "None\n"
          ]
        }
      ],
      "source": [
        "# Load the Titanic dataset\n",
        "url = \"https://raw.githubusercontent.com/datasciencedojo/datasets/master/titanic.csv\"\n",
        "data = pd.read_csv(url)\n",
        "print(data.head())  # Display the first 5 rows of the dataset\n",
        "print(data.info())"
      ]
    },
    {
      "cell_type": "markdown",
      "metadata": {
        "id": "PfeBIhDzj4Cg"
      },
      "source": [
        "**Step2:**\n",
        "\n",
        "Install necessary libraries (e.g., NumPy, pandas, Matplotlib, Scikit-learn)."
      ]
    },
    {
      "cell_type": "code",
      "execution_count": null,
      "metadata": {
        "id": "Q9SKWs0EerS1"
      },
      "outputs": [],
      "source": [
        "# Import libraries\n",
        "import numpy as np\n",
        "import pandas as pd\n",
        "import matplotlib.pyplot as plt\n",
        "from sklearn.model_selection import train_test_split\n",
        "from sklearn.metrics import accuracy_score\n"
      ]
    },
    {
      "cell_type": "markdown",
      "metadata": {
        "id": "WXCxQTzes2x4"
      },
      "source": [
        "**Step3:**\n",
        "\n",
        "Preprocess the Titanic dataset.\n"
      ]
    },
    {
      "cell_type": "markdown",
      "metadata": {
        "id": "gxDUFSyIs_RE"
      },
      "source": [
        "**Key Features:**\n",
        "\n",
        "Retains relevant columns (Pclass, Sex, Age, Fare, Survived).\n",
        "\n",
        "Handles missing values in the Age column by filling with the mean.\n",
        "\n",
        "Converts the categorical Sex column to numerical format.\n",
        "\n",
        "Splits data into features (X) and target (y) for training and testing."
      ]
    },
    {
      "cell_type": "code",
      "execution_count": null,
      "metadata": {
        "id": "T1Ymg1HsfaYp"
      },
      "outputs": [],
      "source": [
        "# Preprocessing: Keep relevant columns and create a copy\n",
        "data = data[['Pclass', 'Sex', 'Age', 'Fare', 'Survived']].copy()\n",
        "\n",
        "# Handle missing values\n",
        "data['Age'] = data['Age'].fillna(data['Age'].mean())\n",
        "\n",
        "# Convert categorical column 'Sex' to numerical\n",
        "data['Sex'] = data['Sex'].map({'male': 0, 'female': 1})\n",
        "\n",
        "# Features (X) and target (y)\n",
        "X = data[['Pclass', 'Sex', 'Age', 'Fare']].values\n",
        "y = data['Survived'].values\n",
        "\n",
        "# Split the data\n",
        "X_train, X_test, y_train, y_test = train_test_split(X, y, test_size=0.2, random_state=42)\n"
      ]
    },
    {
      "cell_type": "markdown",
      "metadata": {
        "id": "mB5fPAIPkDs1"
      },
      "source": [
        "**Step4:**\n",
        "\n",
        "Use the step activation function to implement the perceptron model."
      ]
    },
    {
      "cell_type": "markdown",
      "metadata": {
        "id": "A98zWlfqtUr4"
      },
      "source": [
        "**Key Features:**\n",
        "\n",
        "Implements the perceptron with custom training logic.\n",
        "\n",
        "Uses the Titanic dataset for binary classification."
      ]
    },
    {
      "cell_type": "code",
      "execution_count": null,
      "metadata": {
        "colab": {
          "base_uri": "https://localhost:8080/"
        },
        "id": "nivshrOzf4Zz",
        "outputId": "6d7964e9-fcde-4b66-b533-9837bdb7b4df"
      },
      "outputs": [
        {
          "name": "stdout",
          "output_type": "stream",
          "text": [
            "Perceptron Accuracy: 0.7877094972067039\n"
          ]
        }
      ],
      "source": [
        "# Step activation function\n",
        "def step_function(z):\n",
        "    return np.where(z > 0, 1, 0)\n",
        "\n",
        "# Perceptron class\n",
        "class Perceptron:\n",
        "    def __init__(self, learning_rate=0.01, epochs=1000):\n",
        "        self.learning_rate = learning_rate\n",
        "        self.epochs = epochs\n",
        "\n",
        "    def fit(self, X, y):\n",
        "        self.weights = np.zeros(X.shape[1])\n",
        "        self.bias = 0\n",
        "        self.errors = []\n",
        "\n",
        "        for _ in range(self.epochs):\n",
        "            error_count = 0\n",
        "            for xi, target in zip(X, y):\n",
        "                z = np.dot(xi, self.weights) + self.bias\n",
        "                prediction = step_function(z)\n",
        "                error = target - prediction\n",
        "                if error != 0:\n",
        "                    self.weights += self.learning_rate * error * xi\n",
        "                    self.bias += self.learning_rate * error\n",
        "                    error_count += 1\n",
        "            self.errors.append(error_count)\n",
        "\n",
        "    def predict(self, X):\n",
        "        z = np.dot(X, self.weights) + self.bias\n",
        "        return step_function(z)\n",
        "\n",
        "# Initialize and train the perceptron\n",
        "model = Perceptron(learning_rate=0.01, epochs=1000)\n",
        "model.fit(X_train, y_train)\n",
        "\n",
        "# Predictions\n",
        "y_pred_manual = model.predict(X_test)\n",
        "print(\"Perceptron Accuracy:\", accuracy_score(y_test, y_pred_manual))\n"
      ]
    },
    {
      "cell_type": "markdown",
      "metadata": {
        "id": "E7OANqdQwlFE"
      },
      "source": [
        "**Step5:**\n",
        "\n",
        "Implement the perceptron from scratch and  using a framework (e.g., Scikit-learn)."
      ]
    },
    {
      "cell_type": "code",
      "execution_count": null,
      "metadata": {
        "colab": {
          "base_uri": "https://localhost:8080/"
        },
        "id": "xnVT78M3gniL",
        "outputId": "c2b3aacd-9816-4c5a-a999-1deb355730bd"
      },
      "outputs": [
        {
          "name": "stdout",
          "output_type": "stream",
          "text": [
            "Scikit-Learn Perceptron Accuracy: 0.6536312849162011\n"
          ]
        }
      ],
      "source": [
        "# Preprocessing: Keep relevant columns and handle missing values\n",
        "data = data[['Pclass', 'Sex', 'Age', 'Fare', 'Survived']].copy()\n",
        "\n",
        "# Fill missing values for 'Age' and 'Fare'\n",
        "data['Age'] = data['Age'].fillna(data['Age'].mean())\n",
        "data['Fare'] = data['Fare'].fillna(data['Fare'].mean())\n",
        "\n",
        "# Convert categorical column 'Sex' to numerical\n",
        "data['Sex'] = data['Sex'].map({'male': 0, 'female': 1})\n",
        "\n",
        "# Features (X) and target (y)\n",
        "X = data[['Pclass', 'Sex', 'Age', 'Fare']].values\n",
        "y = data['Survived'].values\n",
        "\n",
        "# Split the data\n",
        "from sklearn.model_selection import train_test_split\n",
        "X_train, X_test, y_train, y_test = train_test_split(X, y, test_size=0.2, random_state=42)\n",
        "\n",
        "# Ensure no NaN values in training and testing sets\n",
        "X_train = np.nan_to_num(X_train)\n",
        "X_test = np.nan_to_num(X_test)\n",
        "\n",
        "# Train the Perceptron\n",
        "from sklearn.linear_model import Perceptron\n",
        "clf = Perceptron(max_iter=1000, eta0=0.01, random_state=42)\n",
        "\n",
        "# Fit the model\n",
        "clf.fit(X_train, y_train)\n",
        "\n",
        "# Predictions\n",
        "from sklearn.metrics import accuracy_score\n",
        "y_pred_sklearn = clf.predict(X_test)\n",
        "print(\"Scikit-Learn Perceptron Accuracy:\", accuracy_score(y_test, y_pred_sklearn))\n"
      ]
    },
    {
      "cell_type": "markdown",
      "metadata": {
        "id": "2HP2LFcbxXCY"
      },
      "source": [
        "**Step6:**\n",
        "\n",
        "To track the progress of the Perceptron model during training, we can visualize how the total number of errors reduces with each iteration:"
      ]
    },
    {
      "cell_type": "code",
      "execution_count": null,
      "metadata": {
        "colab": {
          "base_uri": "https://localhost:8080/",
          "height": 472
        },
        "id": "5HJCTYx1g1gF",
        "outputId": "c8c2d582-8fc4-4ce6-8d3b-88eb2520e204"
      },
      "outputs": [
        {
          "data": {
            "image/png": "[encoded data removed]",
            "text/plain": [
              "<Figure size 640x480 with 1 Axes>"
            ]
          },
          "metadata": {},
          "output_type": "display_data"
        }
      ],
      "source": [
        "# Visualize the training errors\n",
        "plt.plot(range(len(perceptron.errors)), perceptron.errors)\n",
        "plt.xlabel(\"Iterations\")\n",
        "plt.ylabel(\"Total Errors\")\n",
        "plt.title(\"Error Reduction Over Iterations\")\n",
        "plt.show()"
      ]
    },
    {
      "cell_type": "markdown",
      "metadata": {
        "id": "JNYd5fpByF7b"
      },
      "source": [
        "**Limitations of the Perceptron**\n",
        "1.\t**Inability to Handle Non-Linearly Separable Data:**\n",
        "\n",
        "  The Perceptron fails if the data is not linearly separable and cannot converge to a solution. For example, it cannot solve the XOR problem.\n",
        "2.\t**No Probabilistic Output:**\n",
        "  \n",
        "  The Perceptron provides only binary outputs (0 or 1) and does not give the probability of belonging to a class.\n",
        "3.\t**Sensitive to Learning Rate:**\n",
        "  \n",
        "  A poorly chosen learning rate η can lead to slow convergence or divergence.\n",
        "4.\t**Single-Layer Architecture:**\n",
        "  \n",
        "  The basic Perceptron cannot handle more complex problems involving multiple layers.\n"
      ]
    },
    {
      "cell_type": "markdown",
      "metadata": {
        "id": "NrtjyF8VyXVc"
      },
      "source": [
        "\n",
        "**Observations**\n",
        "\n",
        "**Good Performance for Logical Models:**\n",
        "\n",
        "  1)Predicted labels align with expectations for logic gates (AND/OR).\n",
        "  \n",
        "  2)Accuracy metrics reflect strong model training on simple logic datasets.\n",
        "  \n",
        "**Challenges with Missing Data:**\n",
        "\n",
        "  1)Titanic dataset has significant missing values in Age and Cabin.\n",
        "\n",
        "  2)Addressing these gaps is critical for downstream analysis.\n",
        "\n",
        "**Perceptron Model Accuracy:**\n",
        "\n",
        " 1)Accuracy differences between manual and Scikit-Learn implementations, Potential variations in hyperparameter settings or convergence criteria.\n",
        "  \n",
        "  2) Highlights the need for parameter tuning in pre-built models.\n",
        "\n",
        "**Imbalance in Accuracy:**\n",
        "\n",
        "  1)Logical problems yielded very high accuracy.\n",
        "\n",
        "  2)Perceptron results for more complex datasets underperformed, indicating possible overfitting or poor generalization.\n",
        "\n",
        "**Visualization Insights:**\n",
        "\n",
        "  1)Plots might demonstrate decision boundaries or distribution of features."
      ]
    },
    {
      "cell_type": "markdown",
      "metadata": {
        "id": "TAEkMsHFeOlV"
      },
      "source": [
        "**Programming Assignment - 2**"
      ]
    },
    {
      "cell_type": "markdown",
      "metadata": {
        "id": "X4p5LGPVeUpU"
      },
      "source": [
        "Solve a multi-class classification using single layer perceptron.\n"
      ]
    },
    {
      "cell_type": "markdown",
      "metadata": {
        "id": "AmWX9l3ngR2z"
      },
      "source": [
        "**Single perceptron**\n",
        "\n",
        "**Dataset:** Breast Cancer Dataset"
      ]
    },
    {
      "cell_type": "markdown",
      "metadata": {
        "id": "oO443-ZyhFOO"
      },
      "source": [
        "**Step1:**\n",
        "\n",
        "Install necessary libraries (e.g., NumPy, pandas, Matplotlib, Scikit-learn)."
      ]
    },
    {
      "cell_type": "code",
      "execution_count": null,
      "metadata": {
        "id": "J1Qd7-Ilet8U"
      },
      "outputs": [],
      "source": [
        "import numpy as np\n",
        "import matplotlib.pyplot as plt\n",
        "from sklearn.datasets import load_breast_cancer\n",
        "from sklearn.model_selection import train_test_split\n",
        "from sklearn.preprocessing import StandardScaler\n",
        "from sklearn.metrics import accuracy_score"
      ]
    },
    {
      "cell_type": "markdown",
      "metadata": {
        "id": "AjM0M8PCg_U_"
      },
      "source": [
        "**Step 2:**\n",
        "\n",
        "Load and preprocess the dataset"
      ]
    },
    {
      "cell_type": "code",
      "execution_count": null,
      "metadata": {
        "id": "re42sy5shVMQ"
      },
      "outputs": [],
      "source": [
        "cancer_data = load_breast_cancer()\n",
        "X, y = cancer_data.data, cancer_data.target\n",
        "\n",
        "# Select only two features for visualization purposes\n",
        "X = X[:, :2]\n",
        "\n",
        "# Split into train and test sets\n",
        "X_train, X_test, y_train, y_test = train_test_split(X, y, test_size=0.3, random_state=42)\n",
        "\n",
        "# Standardize the dataset\n",
        "scaler = StandardScaler()\n",
        "X_train = scaler.fit_transform(X_train)\n",
        "X_test = scaler.transform(X_test)"
      ]
    },
    {
      "cell_type": "markdown",
      "metadata": {
        "id": "frkND68-hqjA"
      },
      "source": [
        "**Step 3:**\n",
        "\n",
        "Train a single perceptron"
      ]
    },
    {
      "cell_type": "code",
      "execution_count": null,
      "metadata": {
        "id": "dCH1cYklhZ_x"
      },
      "outputs": [],
      "source": [
        "#Initialize weights and bias\n",
        "weights = np.zeros(X_train.shape[1])\n",
        "bias = 0\n",
        "learning_rate = 0.01\n",
        "epochs = 50\n",
        "\n",
        "# Perceptron training loop\n",
        "for epoch in range(epochs):\n",
        "    for i in range(X_train.shape[0]):\n",
        "        # Compute activation\n",
        "        activation = np.dot(weights, X_train[i]) + bias\n",
        "        prediction = 1 if activation >= 0 else 0\n",
        "\n",
        "        # Update weights if misclassified\n",
        "        if prediction != y_train[i]:\n",
        "            weights += learning_rate * (y_train[i] - prediction) * X_train[i]\n",
        "            bias += learning_rate * (y_train[i] - prediction)\n"
      ]
    },
    {
      "cell_type": "markdown",
      "metadata": {
        "id": "a9r9MMnch0wW"
      },
      "source": [
        "**Step 4:**\n",
        "\n",
        "Evaluate the perceptron"
      ]
    },
    {
      "cell_type": "code",
      "execution_count": null,
      "metadata": {
        "colab": {
          "base_uri": "https://localhost:8080/"
        },
        "id": "xXtmjDjth0BI",
        "outputId": "eb780452-828c-4993-c163-6187463442a0"
      },
      "outputs": [
        {
          "name": "stdout",
          "output_type": "stream",
          "text": [
            "Accuracy on the test set: 0.78\n"
          ]
        }
      ],
      "source": [
        "# Prediction function\n",
        "def predict(X):\n",
        "    return [1 if np.dot(weights, x) + bias >= 0 else 0 for x in X]\n",
        "\n",
        "# Predict on test set\n",
        "y_pred = predict(X_test)\n",
        "accuracy = accuracy_score(y_test, y_pred)\n",
        "print(f\"Accuracy on the test set: {accuracy:.2f}\")"
      ]
    },
    {
      "cell_type": "markdown",
      "metadata": {
        "id": "y60xWVi6jClW"
      },
      "source": [
        "**Step 5:**\n",
        "\n",
        "Visualize the decision boundary"
      ]
    },
    {
      "cell_type": "code",
      "execution_count": null,
      "metadata": {
        "colab": {
          "base_uri": "https://localhost:8080/",
          "height": 564
        },
        "id": "TPveQcu0iHY9",
        "outputId": "f0c39781-bd3c-4429-c038-4c34e4dd7fe0"
      },
      "outputs": [
        {
          "data": {
            "image/png": "[encoded data removed]",
            "text/plain": [
              "<Figure size 800x600 with 1 Axes>"
            ]
          },
          "metadata": {},
          "output_type": "display_data"
        }
      ],
      "source": [
        "def plot_decision_boundary(X, y, weights, bias):\n",
        "    plt.figure(figsize=(8, 6))\n",
        "\n",
        "    # Scatter plot of data points\n",
        "    for label in np.unique(y):\n",
        "        plt.scatter(X[y == label, 0], X[y == label, 1], label=f\"Class {label}\")\n",
        "\n",
        "    # Decision boundary\n",
        "    x_values = np.linspace(X[:, 0].min(), X[:, 0].max(), 100)\n",
        "    y_values = -(weights[0] * x_values + bias) / weights[1]\n",
        "    plt.plot(x_values, y_values, label=\"Decision Boundary\", color=\"black\")\n",
        "\n",
        "    plt.xlabel(\"Feature 1\")\n",
        "    plt.ylabel(\"Feature 2\")\n",
        "    plt.title(\"Decision Boundary for Single Perceptron\")\n",
        "    plt.legend()\n",
        "    plt.show()\n",
        "\n",
        "plot_decision_boundary(X_test, y_test, weights, bias)\n"
      ]
    },
    {
      "cell_type": "markdown",
      "metadata": {
        "id": "6nTE9AAuigzG"
      },
      "source": [
        "**Single layer perceptron**\n",
        "(multi-class classification)\n",
        "\n"
      ]
    },
    {
      "cell_type": "markdown",
      "metadata": {
        "id": "rVKcX-1zk20-"
      },
      "source": [
        "**Step1:**\n",
        "\n",
        "Install necessary libraries"
      ]
    },
    {
      "cell_type": "code",
      "execution_count": null,
      "metadata": {
        "id": "JGQpod62iLb-"
      },
      "outputs": [],
      "source": [
        "from sklearn.datasets import load_digits\n",
        "from sklearn.metrics import accuracy_score"
      ]
    },
    {
      "cell_type": "markdown",
      "metadata": {
        "id": "NaiLFPqbjLvm"
      },
      "source": [
        "**Step 2:**\n",
        "\n",
        "Load and preprocess the dataset\n",
        "\n",
        "**Dataset:** Digits data"
      ]
    },
    {
      "cell_type": "code",
      "execution_count": null,
      "metadata": {
        "id": "miHWJmx5jBni"
      },
      "outputs": [],
      "source": [
        "# Load Digits dataset\n",
        "digits_data = load_digits()\n",
        "X, y = digits_data.data, digits_data.target\n",
        "\n",
        "# Split into train and test sets\n",
        "X_train, X_test, y_train, y_test = train_test_split(X, y, test_size=0.3, random_state=42)\n",
        "\n",
        "# Standardize the dataset\n",
        "X_train = scaler.fit_transform(X_train)\n",
        "X_test = scaler.transform(X_test)"
      ]
    },
    {
      "cell_type": "markdown",
      "metadata": {
        "id": "Oxcp6BEajqgY"
      },
      "source": [
        "**Step 3:**\n",
        "\n",
        "Train a single-layer perceptron using One-vs-All"
      ]
    },
    {
      "cell_type": "code",
      "execution_count": null,
      "metadata": {
        "id": "JBToyP8MjVWn"
      },
      "outputs": [],
      "source": [
        "num_classes = len(np.unique(y))\n",
        "num_features = X_train.shape[1]\n",
        "weights = np.zeros((num_classes, num_features))\n",
        "biases = np.zeros(num_classes)\n",
        "\n",
        "# Training loop\n",
        "for cls in range(num_classes):\n",
        "    binary_labels = np.where(y_train == cls, 1, -1)  # Convert to binary for this class\n",
        "    for epoch in range(epochs):\n",
        "        for i in range(X_train.shape[0]):\n",
        "            activation = np.dot(weights[cls], X_train[i]) + biases[cls]\n",
        "            prediction = 1 if activation >= 0 else -1\n",
        "            if prediction != binary_labels[i]:\n",
        "                weights[cls] += learning_rate * binary_labels[i] * X_train[i]\n",
        "                biases[cls] += learning_rate * binary_labels[i]"
      ]
    },
    {
      "cell_type": "markdown",
      "metadata": {
        "id": "gh4thRTXj7Cx"
      },
      "source": [
        "**Step 4:**\n",
        "\n",
        "Predict on the test set"
      ]
    },
    {
      "cell_type": "code",
      "execution_count": null,
      "metadata": {
        "colab": {
          "base_uri": "https://localhost:8080/"
        },
        "id": "wIfpKlSYj62e",
        "outputId": "015ce99d-763e-4977-caef-88fa6fc3d3cf"
      },
      "outputs": [
        {
          "name": "stdout",
          "output_type": "stream",
          "text": [
            "Accuracy on the test set: 0.94\n"
          ]
        }
      ],
      "source": [
        "def predict_multiclass(X):\n",
        "    activations = np.dot(weights, X.T) + biases[:, np.newaxis]\n",
        "    return np.argmax(activations, axis=0)\n",
        "\n",
        "y_pred = predict_multiclass(X_test)\n",
        "accuracy = accuracy_score(y_test, y_pred)\n",
        "print(f\"Accuracy on the test set: {accuracy:.2f}\")\n"
      ]
    },
    {
      "cell_type": "markdown",
      "metadata": {
        "id": "OcsYMVxk7QP4"
      },
      "source": [
        "**Lab 2:**\n",
        "\n",
        "**(24/01/2025)**"
      ]
    },
    {
      "cell_type": "markdown",
      "metadata": {
        "id": "Xh1WTT2Y3AlU"
      },
      "source": [
        "**Experiment 3**\n",
        "\n",
        "Multi-Layer Perceptron (MLP) for XOR Gate"
      ]
    },
    {
      "cell_type": "markdown",
      "metadata": {
        "id": "7EVW2fXj4fNh"
      },
      "source": [
        "**Step 1:**\n",
        "\n",
        "Import Libraries"
      ]
    },
    {
      "cell_type": "code",
      "execution_count": null,
      "metadata": {
        "id": "N8c3b5Fn4U_U"
      },
      "outputs": [],
      "source": [
        "import numpy as np"
      ]
    },
    {
      "cell_type": "markdown",
      "metadata": {
        "id": "4jEHk5Wr4oT2"
      },
      "source": [
        "**Step 2:**\n",
        "\n",
        "Define XOR Data"
      ]
    },
    {
      "cell_type": "code",
      "execution_count": null,
      "metadata": {
        "id": "Q65banlr4ot5"
      },
      "outputs": [],
      "source": [
        "X = np.array([[0, 0], [0, 1], [1, 0], [1, 1]])\n",
        "y = np.array([[0], [1], [1], [0]])"
      ]
    },
    {
      "cell_type": "markdown",
      "metadata": {
        "id": "y6hKt9Og46se"
      },
      "source": [
        "**Step 3:**\n",
        "\n",
        "Define Sigmoid and Its Derivative"
      ]
    },
    {
      "cell_type": "code",
      "execution_count": null,
      "metadata": {
        "id": "c092Q4F147Dh"
      },
      "outputs": [],
      "source": [
        "def sigmoid(x):\n",
        "    return 1 / (1 + np.exp(-x))\n",
        "\n",
        "def sigmoid_derivative(x):\n",
        "    return x * (1 - x)"
      ]
    },
    {
      "cell_type": "markdown",
      "metadata": {
        "id": "5-LQ48Ap5Hwu"
      },
      "source": [
        "**Step 4:**\n",
        "\n",
        "Initialize Weights and Biases"
      ]
    },
    {
      "cell_type": "code",
      "execution_count": null,
      "metadata": {
        "id": "iXcvN7ky5Gt9"
      },
      "outputs": [],
      "source": [
        "np.random.seed(0)\n",
        "weights_input_hidden = np.random.uniform(size=(2, 2))\n",
        "weights_hidden_output = np.random.uniform(size=(2, 1))\n",
        "bias_hidden = np.random.uniform(size=(1, 2))\n",
        "bias_output = np.random.uniform(size=(1, 1))\n",
        "learning_rate = 0.1"
      ]
    },
    {
      "cell_type": "markdown",
      "metadata": {
        "id": "Bv3hjoRj5NGo"
      },
      "source": [
        "**Step 5:**\n",
        "\n",
        "Train the Model"
      ]
    },
    {
      "cell_type": "code",
      "execution_count": null,
      "metadata": {
        "id": "_s_9utOw5LF_"
      },
      "outputs": [],
      "source": [
        "for epoch in range(10000):\n",
        "    # Forward propagation\n",
        "    hidden_layer_input = np.dot(X, weights_input_hidden) + bias_hidden\n",
        "    hidden_layer_output = sigmoid(hidden_layer_input)\n",
        "    output_layer_input = np.dot(hidden_layer_output, weights_hidden_output) + bias_output\n",
        "    output_layer_output = sigmoid(output_layer_input)\n",
        "\n",
        "    # Backpropagation\n",
        "    output_error = y - output_layer_output\n",
        "    output_delta = output_error * sigmoid_derivative(output_layer_output)\n",
        "\n",
        "    hidden_error = np.dot(output_delta, weights_hidden_output.T)\n",
        "    hidden_delta = hidden_error * sigmoid_derivative(hidden_layer_output)\n",
        "\n",
        "    # Update weights and biases\n",
        "    weights_hidden_output += np.dot(hidden_layer_output.T, output_delta) * learning_rate\n",
        "    weights_input_hidden += np.dot(X.T, hidden_delta) * learning_rate\n",
        "    bias_hidden += np.sum(hidden_delta, axis=0, keepdims=True) * learning_rate\n",
        "    bias_output += np.sum(output_delta, axis=0, keepdims=True) * learning_rate"
      ]
    },
    {
      "cell_type": "markdown",
      "metadata": {
        "id": "VFwes7g85QfW"
      },
      "source": [
        "**Step 6:**\n",
        "\n",
        "Display Results"
      ]
    },
    {
      "cell_type": "code",
      "execution_count": null,
      "metadata": {
        "colab": {
          "base_uri": "https://localhost:8080/"
        },
        "id": "oXn_nR9X5Ol4",
        "outputId": "14a414cf-3d29-4a22-a34b-f14162b69dca"
      },
      "outputs": [
        {
          "name": "stdout",
          "output_type": "stream",
          "text": [
            "Final output after training:\n",
            "[[0.06256664]\n",
            " [0.94187413]\n",
            " [0.94184757]\n",
            " [0.06309644]]\n"
          ]
        }
      ],
      "source": [
        "print(\"Final output after training:\")\n",
        "print(output_layer_output)"
      ]
    },
    {
      "cell_type": "markdown",
      "metadata": {
        "id": "s6negVDO5ZXP"
      },
      "source": [
        "**Experiment 4**\n",
        "\n",
        "Activation Functions"
      ]
    },
    {
      "cell_type": "markdown",
      "metadata": {
        "id": "K0HJHRFd5ZBX"
      },
      "source": [
        "**Step 1:**\n",
        "\n",
        "Import Libraries"
      ]
    },
    {
      "cell_type": "code",
      "execution_count": null,
      "metadata": {
        "id": "dlzLvVjq5To1"
      },
      "outputs": [],
      "source": [
        "import numpy as np\n",
        "import matplotlib.pyplot as plt"
      ]
    },
    {
      "cell_type": "markdown",
      "metadata": {
        "id": "lH6M1l5j5vP3"
      },
      "source": [
        "**Step 2:**\n",
        "\n",
        "Define Activation Functions"
      ]
    },
    {
      "cell_type": "code",
      "execution_count": null,
      "metadata": {
        "id": "nJ8nVbHD5tGh"
      },
      "outputs": [],
      "source": [
        "def sigmoid(x):\n",
        "    return 1 / (1 + np.exp(-x))\n",
        "\n",
        "def relu(x):\n",
        "    return np.maximum(0, x)\n",
        "\n",
        "def tanh(x):\n",
        "    return np.tanh(x)"
      ]
    },
    {
      "cell_type": "markdown",
      "metadata": {
        "id": "VQgs7ZLm53WE"
      },
      "source": [
        "**Step 3:**\n",
        "\n",
        "Generate Data"
      ]
    },
    {
      "cell_type": "code",
      "execution_count": null,
      "metadata": {
        "id": "HkUPkR1T5uR3"
      },
      "outputs": [],
      "source": [
        "x = np.linspace(-10, 10, 100)"
      ]
    },
    {
      "cell_type": "markdown",
      "metadata": {
        "id": "jsL6FWoT53xP"
      },
      "source": [
        "**Step 4:**\n",
        "\n",
        "Apply Activation Functions"
      ]
    },
    {
      "cell_type": "code",
      "execution_count": null,
      "metadata": {
        "id": "1y6wmsZ152_r"
      },
      "outputs": [],
      "source": [
        "y_sigmoid = sigmoid(x)\n",
        "y_relu = relu(x)\n",
        "y_tanh = tanh(x)"
      ]
    },
    {
      "cell_type": "markdown",
      "metadata": {
        "id": "O23pBBrk584F"
      },
      "source": [
        "**Step 5:**\n",
        "\n",
        "Plot the Outputs"
      ]
    },
    {
      "cell_type": "code",
      "execution_count": null,
      "metadata": {
        "colab": {
          "base_uri": "https://localhost:8080/",
          "height": 564
        },
        "id": "AVZGRhoO55mn",
        "outputId": "78da9f1e-6326-43f4-a288-d6194b846124"
      },
      "outputs": [
        {
          "data": {
            "image/png": "[encoded data removed]",
            "text/plain": [
              "<Figure size 1000x600 with 1 Axes>"
            ]
          },
          "metadata": {},
          "output_type": "display_data"
        }
      ],
      "source": [
        "plt.figure(figsize=(10, 6))\n",
        "plt.plot(x, y_sigmoid, label=\"Sigmoid\")\n",
        "plt.plot(x, y_relu, label=\"ReLU\")\n",
        "plt.plot(x, y_tanh, label=\"Tanh\")\n",
        "plt.title(\"Activation Functions\")\n",
        "plt.xlabel(\"Input\")\n",
        "plt.ylabel(\"Output\")\n",
        "plt.legend()\n",
        "plt.grid()\n",
        "plt.show()"
      ]
    },
    {
      "cell_type": "markdown",
      "metadata": {
        "id": "ztGx3lFA6NCu"
      },
      "source": [
        "**Experiment 5:**\n",
        "\n",
        "Forward and Backpropagation"
      ]
    },
    {
      "cell_type": "markdown",
      "metadata": {
        "id": "HwZq95u86MzQ"
      },
      "source": [
        "**Step 1:**\n",
        "\n",
        "Import Libraries"
      ]
    },
    {
      "cell_type": "code",
      "execution_count": null,
      "metadata": {
        "id": "VKue0njr568w"
      },
      "outputs": [],
      "source": [
        "import numpy as np"
      ]
    },
    {
      "cell_type": "markdown",
      "metadata": {
        "id": "hk-yI0u86XTA"
      },
      "source": [
        "**Step 2:**\n",
        "\n",
        "Define Data"
      ]
    },
    {
      "cell_type": "code",
      "execution_count": null,
      "metadata": {
        "id": "RscW92U26L9h"
      },
      "outputs": [],
      "source": [
        "X = np.array([[1, 0], [0, 1], [1, 1], [0, 0]])\n",
        "y = np.array([[1], [1], [0], [0]])"
      ]
    },
    {
      "cell_type": "markdown",
      "metadata": {
        "id": "8-_YvsOv6bhI"
      },
      "source": [
        "**Step 3:**\n",
        "\n",
        "Initialize Weights and Biases"
      ]
    },
    {
      "cell_type": "code",
      "execution_count": null,
      "metadata": {
        "id": "Ie69AXe56gU-"
      },
      "outputs": [],
      "source": [
        "np.random.seed(42)\n",
        "weights_1 = np.random.rand(2, 2)\n",
        "weights_2 = np.random.rand(2, 1)\n",
        "bias_1 = np.random.rand(1, 2)\n",
        "bias_2 = np.random.rand(1, 1)\n",
        "learning_rate = 0.1"
      ]
    },
    {
      "cell_type": "markdown",
      "metadata": {
        "id": "dfj2llFJ6f4C"
      },
      "source": [
        "**Step 4:**\n",
        "\n",
        "Define Sigmoid and Its Derivative"
      ]
    },
    {
      "cell_type": "code",
      "execution_count": null,
      "metadata": {
        "id": "DJJIOVIC6lLk"
      },
      "outputs": [],
      "source": [
        "def sigmoid(x):\n",
        "    return 1 / (1 + np.exp(-x))\n",
        "\n",
        "def sigmoid_derivative(x):\n",
        "    return x * (1 - x)"
      ]
    },
    {
      "cell_type": "markdown",
      "metadata": {
        "id": "iHmFUw_H6lx8"
      },
      "source": [
        "**Step 5:**\n",
        "\n",
        "Train the Model"
      ]
    },
    {
      "cell_type": "code",
      "execution_count": null,
      "metadata": {
        "id": "CWrJ0lPo6vO-"
      },
      "outputs": [],
      "source": [
        "for epoch in range(10000):\n",
        "    # Forward propagation\n",
        "    z1 = np.dot(X, weights_1) + bias_1\n",
        "    a1 = sigmoid(z1)\n",
        "    z2 = np.dot(a1, weights_2) + bias_2\n",
        "    a2 = sigmoid(z2)\n",
        "\n",
        "    # Backpropagation\n",
        "    error = y - a2\n",
        "    d_a2 = error * sigmoid_derivative(a2)\n",
        "    d_a1 = np.dot(d_a2, weights_2.T) * sigmoid_derivative(a1)\n",
        "\n",
        "    # Update weights and biases\n",
        "    weights_2 += np.dot(a1.T, d_a2) * learning_rate\n",
        "    bias_2 += np.sum(d_a2, axis=0, keepdims=True) * learning_rate\n",
        "    weights_1 += np.dot(X.T, d_a1) * learning_rate\n",
        "    bias_1 += np.sum(d_a1, axis=0, keepdims=True) * learning_rate"
      ]
    },
    {
      "cell_type": "markdown",
      "metadata": {
        "id": "ErDaRXUK6xi2"
      },
      "source": [
        "**Step 6:**\n",
        "\n",
        "Display Results"
      ]
    },
    {
      "cell_type": "code",
      "execution_count": null,
      "metadata": {
        "colab": {
          "base_uri": "https://localhost:8080/"
        },
        "id": "5wMqTiRF6xB6",
        "outputId": "1538586b-d9d4-48c1-fec0-880e33828164"
      },
      "outputs": [
        {
          "name": "stdout",
          "output_type": "stream",
          "text": [
            "Final Output:\n",
            "[[0.944367  ]\n",
            " [0.94447222]\n",
            " [0.05997169]\n",
            " [0.06029012]]\n"
          ]
        }
      ],
      "source": [
        "print(\"Final Output:\")\n",
        "print(a2)"
      ]
    },
    {
      "cell_type": "markdown",
      "metadata": {
        "id": "IRCL3uOB5-l2"
      },
      "source": [
        "**lab3**\n",
        "\n",
        "27/01/2025"
      ]
    },
    {
      "cell_type": "markdown",
      "metadata": {
        "id": "kmeTPMI6AcR4"
      },
      "source": [
        "**1) Baseline Model**"
      ]
    },
    {
      "cell_type": "markdown",
      "metadata": {
        "id": "Lrq170wMAsRh"
      },
      "source": [
        "**Step1:**\n",
        "\n",
        "Import Libraries"
      ]
    },
    {
      "cell_type": "code",
      "execution_count": 2,
      "metadata": {
        "id": "4PICP-Eo58fz"
      },
      "outputs": [],
      "source": [
        "from tensorflow.keras.models import Sequential\n",
        "from tensorflow.keras.layers import Dense, Flatten\n",
        "from tensorflow.keras.datasets import mnist\n",
        "from tensorflow.keras.utils import to_categorical"
      ]
    },
    {
      "cell_type": "markdown",
      "metadata": {
        "id": "BicM-JE0Ac2o"
      },
      "source": [
        "**Step2:**\n",
        "\n",
        "Load the Dataset"
      ]
    },
    {
      "cell_type": "code",
      "execution_count": 3,
      "metadata": {
        "id": "y0igFNWXAbqT",
        "colab": {
          "base_uri": "https://localhost:8080/"
        },
        "outputId": "eae94b95-b3eb-48ba-8570-eb913468931d"
      },
      "outputs": [
        {
          "output_type": "stream",
          "name": "stdout",
          "text": [
            "Downloading data from https://storage.googleapis.com/tensorflow/tf-keras-datasets/mnist.npz\n",
            "\u001b[1m11490434/11490434\u001b[0m \u001b[32m━━━━━━━━━━━━━━━━━━━━\u001b[0m\u001b[37m\u001b[0m \u001b[1m0s\u001b[0m 0us/step\n"
          ]
        }
      ],
      "source": [
        "(x_train, y_train), (x_test, y_test) = mnist.load_data()"
      ]
    },
    {
      "cell_type": "markdown",
      "metadata": {
        "id": "xl5jtwBJA7RG"
      },
      "source": [
        "**Step3:**\n",
        "\n",
        "Preprocess the Data"
      ]
    },
    {
      "cell_type": "markdown",
      "metadata": {
        "id": "eotYUY2cBDWS"
      },
      "source": [
        "Normalize pixel values to a range of 0 to 1:"
      ]
    },
    {
      "cell_type": "code",
      "execution_count": 45,
      "metadata": {
        "id": "QV1ikUtGA6hS"
      },
      "outputs": [],
      "source": [
        "# Ensure input has correct shape (batch_size, 28, 28, 1) for grayscale images\n",
        "x_train = x_train.reshape(-1, 28, 28, 1)\n",
        "x_test = x_test.reshape(-1, 28, 28, 1)"
      ]
    },
    {
      "cell_type": "markdown",
      "metadata": {
        "id": "FDz8XybqBQgQ"
      },
      "source": [
        "Convert labels to one-hot encoding:"
      ]
    },
    {
      "cell_type": "code",
      "execution_count": 5,
      "metadata": {
        "id": "ExANpfQOBCxu"
      },
      "outputs": [],
      "source": [
        "y_train = to_categorical(y_train, 10)\n",
        "y_test = to_categorical(y_test, 10)"
      ]
    },
    {
      "cell_type": "markdown",
      "metadata": {
        "id": "YldQzzeFBWIA"
      },
      "source": [
        "**Step4:**\n",
        "\n",
        "Build the Model"
      ]
    },
    {
      "cell_type": "code",
      "execution_count": 51,
      "metadata": {
        "id": "_5RS-9JZBP1T"
      },
      "outputs": [],
      "source": [
        "baseline_model = Sequential([\n",
        "    Flatten(input_shape=(28, 28, 1)),\n",
        "    Dense(128, activation='relu'),\n",
        "    Dense(10, activation='softmax')\n",
        "])"
      ]
    },
    {
      "cell_type": "markdown",
      "metadata": {
        "id": "ilhBS7FUBgPF"
      },
      "source": [
        "**Step5:**\n",
        "\n",
        "Compile the Model"
      ]
    },
    {
      "cell_type": "code",
      "execution_count": 52,
      "metadata": {
        "id": "YCUbAWl8BdcO"
      },
      "outputs": [],
      "source": [
        "baseline_model.compile(optimizer='adam',\n",
        "                       loss='categorical_crossentropy',\n",
        "                       metrics=['accuracy'])"
      ]
    },
    {
      "cell_type": "markdown",
      "metadata": {
        "id": "LoZaQ7NVBtVd"
      },
      "source": [
        "**Step6:**\n",
        "\n",
        "Train the Model"
      ]
    },
    {
      "cell_type": "code",
      "execution_count": 53,
      "metadata": {
        "colab": {
          "base_uri": "https://localhost:8080/"
        },
        "id": "iOsUlfTiBm02",
        "outputId": "000e72a8-af00-40cd-fe20-c250c33ebb55"
      },
      "outputs": [
        {
          "output_type": "stream",
          "name": "stdout",
          "text": [
            "Epoch 1/10\n",
            "\u001b[1m938/938\u001b[0m \u001b[32m━━━━━━━━━━━━━━━━━━━━\u001b[0m\u001b[37m\u001b[0m \u001b[1m5s\u001b[0m 4ms/step - accuracy: 0.8611 - loss: 0.5078 - val_accuracy: 0.9552 - val_loss: 0.1545\n",
            "Epoch 2/10\n",
            "\u001b[1m938/938\u001b[0m \u001b[32m━━━━━━━━━━━━━━━━━━━━\u001b[0m\u001b[37m\u001b[0m \u001b[1m5s\u001b[0m 4ms/step - accuracy: 0.9586 - loss: 0.1446 - val_accuracy: 0.9666 - val_loss: 0.1108\n",
            "Epoch 3/10\n",
            "\u001b[1m938/938\u001b[0m \u001b[32m━━━━━━━━━━━━━━━━━━━━\u001b[0m\u001b[37m\u001b[0m \u001b[1m5s\u001b[0m 5ms/step - accuracy: 0.9728 - loss: 0.0927 - val_accuracy: 0.9715 - val_loss: 0.0922\n",
            "Epoch 4/10\n",
            "\u001b[1m938/938\u001b[0m \u001b[32m━━━━━━━━━━━━━━━━━━━━\u001b[0m\u001b[37m\u001b[0m \u001b[1m4s\u001b[0m 4ms/step - accuracy: 0.9785 - loss: 0.0704 - val_accuracy: 0.9739 - val_loss: 0.0856\n",
            "Epoch 5/10\n",
            "\u001b[1m938/938\u001b[0m \u001b[32m━━━━━━━━━━━━━━━━━━━━\u001b[0m\u001b[37m\u001b[0m \u001b[1m4s\u001b[0m 4ms/step - accuracy: 0.9844 - loss: 0.0545 - val_accuracy: 0.9753 - val_loss: 0.0791\n",
            "Epoch 6/10\n",
            "\u001b[1m938/938\u001b[0m \u001b[32m━━━━━━━━━━━━━━━━━━━━\u001b[0m\u001b[37m\u001b[0m \u001b[1m6s\u001b[0m 5ms/step - accuracy: 0.9881 - loss: 0.0438 - val_accuracy: 0.9795 - val_loss: 0.0701\n",
            "Epoch 7/10\n",
            "\u001b[1m938/938\u001b[0m \u001b[32m━━━━━━━━━━━━━━━━━━━━\u001b[0m\u001b[37m\u001b[0m \u001b[1m4s\u001b[0m 4ms/step - accuracy: 0.9899 - loss: 0.0353 - val_accuracy: 0.9787 - val_loss: 0.0712\n",
            "Epoch 8/10\n",
            "\u001b[1m938/938\u001b[0m \u001b[32m━━━━━━━━━━━━━━━━━━━━\u001b[0m\u001b[37m\u001b[0m \u001b[1m4s\u001b[0m 4ms/step - accuracy: 0.9927 - loss: 0.0267 - val_accuracy: 0.9792 - val_loss: 0.0717\n",
            "Epoch 9/10\n",
            "\u001b[1m938/938\u001b[0m \u001b[32m━━━━━━━━━━━━━━━━━━━━\u001b[0m\u001b[37m\u001b[0m \u001b[1m5s\u001b[0m 4ms/step - accuracy: 0.9942 - loss: 0.0214 - val_accuracy: 0.9796 - val_loss: 0.0681\n",
            "Epoch 10/10\n",
            "\u001b[1m938/938\u001b[0m \u001b[32m━━━━━━━━━━━━━━━━━━━━\u001b[0m\u001b[37m\u001b[0m \u001b[1m4s\u001b[0m 4ms/step - accuracy: 0.9958 - loss: 0.0169 - val_accuracy: 0.9791 - val_loss: 0.0701\n"
          ]
        }
      ],
      "source": [
        "baseline_history = baseline_model.fit(x_train, y_train,\n",
        "                                      validation_data=(x_test, y_test),\n",
        "                                      epochs=10,\n",
        "                                      batch_size=64)\n"
      ]
    },
    {
      "cell_type": "markdown",
      "metadata": {
        "id": "E1u9gx9NBvxM"
      },
      "source": [
        "**Step7:**\n",
        "\n",
        "Evaluate the Model"
      ]
    },
    {
      "cell_type": "code",
      "execution_count": 54,
      "metadata": {
        "colab": {
          "base_uri": "https://localhost:8080/"
        },
        "id": "5I0pSPRdBoQI",
        "outputId": "12c16589-f09f-4b05-ee5b-d80f6e11b883"
      },
      "outputs": [
        {
          "output_type": "stream",
          "name": "stdout",
          "text": [
            "\u001b[1m313/313\u001b[0m \u001b[32m━━━━━━━━━━━━━━━━━━━━\u001b[0m\u001b[37m\u001b[0m \u001b[1m1s\u001b[0m 2ms/step - accuracy: 0.9754 - loss: 0.0834\n",
            "Baseline Test Accuracy: 0.9790999889373779\n"
          ]
        }
      ],
      "source": [
        "baseline_results = baseline_model.evaluate(x_test, y_test)\n",
        "print(\"Baseline Test Accuracy:\", baseline_results[1])"
      ]
    },
    {
      "cell_type": "markdown",
      "metadata": {
        "id": "5uGEW1XYGpG-"
      },
      "source": [
        "**2) L1 and L2 Regularization**"
      ]
    },
    {
      "cell_type": "markdown",
      "metadata": {
        "id": "5vHRdxg8Gu9o"
      },
      "source": [
        "**Step1:**\n",
        "\n",
        "L1 Regularization"
      ]
    },
    {
      "cell_type": "markdown",
      "metadata": {
        "id": "sCKaR-tbHRDP"
      },
      "source": [
        "Build a model with L1 regularization:"
      ]
    },
    {
      "cell_type": "code",
      "execution_count": 10,
      "metadata": {
        "id": "llq8NaseE-Pb"
      },
      "outputs": [],
      "source": [
        "from tensorflow.keras.regularizers import l1\n",
        "\n",
        "l1_model = Sequential([\n",
        "    Flatten(input_shape=(28, 28)),\n",
        "    Dense(128, activation='relu', kernel_regularizer=l1(0.01)),\n",
        "    Dense(10, activation='softmax')\n",
        "])"
      ]
    },
    {
      "cell_type": "markdown",
      "metadata": {
        "id": "0HTF79uKHVRS"
      },
      "source": [
        "Compile the model:"
      ]
    },
    {
      "cell_type": "code",
      "execution_count": 11,
      "metadata": {
        "id": "SEOUxm3EHT81"
      },
      "outputs": [],
      "source": [
        "l1_model.compile(optimizer='adam',\n",
        "                 loss='categorical_crossentropy',\n",
        "                 metrics=['accuracy'])"
      ]
    },
    {
      "cell_type": "markdown",
      "metadata": {
        "id": "PU5ke10EHcjJ"
      },
      "source": [
        "Train the model:"
      ]
    },
    {
      "cell_type": "code",
      "execution_count": 12,
      "metadata": {
        "colab": {
          "base_uri": "https://localhost:8080/"
        },
        "id": "nR-UV1NMHZ2Y",
        "outputId": "13c06dab-a968-438d-9aee-124505460bf9"
      },
      "outputs": [
        {
          "output_type": "stream",
          "name": "stdout",
          "text": [
            "Epoch 1/10\n",
            "\u001b[1m938/938\u001b[0m \u001b[32m━━━━━━━━━━━━━━━━━━━━\u001b[0m\u001b[37m\u001b[0m \u001b[1m7s\u001b[0m 6ms/step - accuracy: 0.7448 - loss: 7.2295 - val_accuracy: 0.8437 - val_loss: 1.2676\n",
            "Epoch 2/10\n",
            "\u001b[1m938/938\u001b[0m \u001b[32m━━━━━━━━━━━━━━━━━━━━\u001b[0m\u001b[37m\u001b[0m \u001b[1m8s\u001b[0m 4ms/step - accuracy: 0.8431 - loss: 1.2210 - val_accuracy: 0.8635 - val_loss: 1.0931\n",
            "Epoch 3/10\n",
            "\u001b[1m938/938\u001b[0m \u001b[32m━━━━━━━━━━━━━━━━━━━━\u001b[0m\u001b[37m\u001b[0m \u001b[1m6s\u001b[0m 6ms/step - accuracy: 0.8516 - loss: 1.0994 - val_accuracy: 0.8571 - val_loss: 1.0432\n",
            "Epoch 4/10\n",
            "\u001b[1m938/938\u001b[0m \u001b[32m━━━━━━━━━━━━━━━━━━━━\u001b[0m\u001b[37m\u001b[0m \u001b[1m4s\u001b[0m 4ms/step - accuracy: 0.8588 - loss: 1.0404 - val_accuracy: 0.8617 - val_loss: 0.9928\n",
            "Epoch 5/10\n",
            "\u001b[1m938/938\u001b[0m \u001b[32m━━━━━━━━━━━━━━━━━━━━\u001b[0m\u001b[37m\u001b[0m \u001b[1m4s\u001b[0m 4ms/step - accuracy: 0.8641 - loss: 1.0005 - val_accuracy: 0.8796 - val_loss: 0.9446\n",
            "Epoch 6/10\n",
            "\u001b[1m938/938\u001b[0m \u001b[32m━━━━━━━━━━━━━━━━━━━━\u001b[0m\u001b[37m\u001b[0m \u001b[1m6s\u001b[0m 5ms/step - accuracy: 0.8708 - loss: 0.9593 - val_accuracy: 0.8813 - val_loss: 0.9070\n",
            "Epoch 7/10\n",
            "\u001b[1m938/938\u001b[0m \u001b[32m━━━━━━━━━━━━━━━━━━━━\u001b[0m\u001b[37m\u001b[0m \u001b[1m4s\u001b[0m 4ms/step - accuracy: 0.8693 - loss: 0.9503 - val_accuracy: 0.8854 - val_loss: 0.8857\n",
            "Epoch 8/10\n",
            "\u001b[1m938/938\u001b[0m \u001b[32m━━━━━━━━━━━━━━━━━━━━\u001b[0m\u001b[37m\u001b[0m \u001b[1m5s\u001b[0m 5ms/step - accuracy: 0.8744 - loss: 0.9212 - val_accuracy: 0.8701 - val_loss: 0.9201\n",
            "Epoch 9/10\n",
            "\u001b[1m938/938\u001b[0m \u001b[32m━━━━━━━━━━━━━━━━━━━━\u001b[0m\u001b[37m\u001b[0m \u001b[1m4s\u001b[0m 4ms/step - accuracy: 0.8750 - loss: 0.9133 - val_accuracy: 0.8859 - val_loss: 0.8735\n",
            "Epoch 10/10\n",
            "\u001b[1m938/938\u001b[0m \u001b[32m━━━━━━━━━━━━━━━━━━━━\u001b[0m\u001b[37m\u001b[0m \u001b[1m6s\u001b[0m 6ms/step - accuracy: 0.8774 - loss: 0.8934 - val_accuracy: 0.8854 - val_loss: 0.8681\n"
          ]
        }
      ],
      "source": [
        "l1_history = l1_model.fit(x_train, y_train,\n",
        "                          validation_data=(x_test, y_test),\n",
        "                          epochs=10,\n",
        "                          batch_size=64)"
      ]
    },
    {
      "cell_type": "markdown",
      "metadata": {
        "id": "Ml4r0roGHii_"
      },
      "source": [
        "**Step2:**\n",
        "\n",
        "L2 Regularization:"
      ]
    },
    {
      "cell_type": "code",
      "source": [
        "from tensorflow.keras.regularizers import l2\n",
        "\n",
        "l2_model = Sequential([\n",
        "    Flatten(input_shape=(28, 28)),\n",
        "    Dense(128, activation='relu', kernel_regularizer=l2(0.01)),\n",
        "    Dense(10, activation='softmax')\n",
        "])"
      ],
      "metadata": {
        "id": "LsnUNdzstGzj"
      },
      "execution_count": 13,
      "outputs": []
    },
    {
      "cell_type": "markdown",
      "source": [
        "Compile the model:"
      ],
      "metadata": {
        "id": "CO_-Z4vuu9xe"
      }
    },
    {
      "cell_type": "code",
      "source": [
        "l2_model.compile(optimizer='adam',\n",
        "                 loss='categorical_crossentropy',\n",
        "                 metrics=['accuracy'])"
      ],
      "metadata": {
        "id": "_XAgPzNwuymc"
      },
      "execution_count": 14,
      "outputs": []
    },
    {
      "cell_type": "markdown",
      "source": [
        "Train the model:"
      ],
      "metadata": {
        "id": "5Q6kMrTbu9SC"
      }
    },
    {
      "cell_type": "code",
      "source": [
        "l2_history = l2_model.fit(x_train, y_train,\n",
        "                          validation_data=(x_test, y_test),\n",
        "                          epochs=10,\n",
        "                          batch_size=64)"
      ],
      "metadata": {
        "colab": {
          "base_uri": "https://localhost:8080/"
        },
        "id": "muWbC6pMu4Gk",
        "outputId": "bc9f3dc2-375a-4415-f05f-76261c302448"
      },
      "execution_count": 15,
      "outputs": [
        {
          "output_type": "stream",
          "name": "stdout",
          "text": [
            "Epoch 1/10\n",
            "\u001b[1m938/938\u001b[0m \u001b[32m━━━━━━━━━━━━━━━━━━━━\u001b[0m\u001b[37m\u001b[0m \u001b[1m6s\u001b[0m 5ms/step - accuracy: 0.8401 - loss: 1.1656 - val_accuracy: 0.9296 - val_loss: 0.4144\n",
            "Epoch 2/10\n",
            "\u001b[1m938/938\u001b[0m \u001b[32m━━━━━━━━━━━━━━━━━━━━\u001b[0m\u001b[37m\u001b[0m \u001b[1m6s\u001b[0m 6ms/step - accuracy: 0.9270 - loss: 0.4114 - val_accuracy: 0.9372 - val_loss: 0.3609\n",
            "Epoch 3/10\n",
            "\u001b[1m938/938\u001b[0m \u001b[32m━━━━━━━━━━━━━━━━━━━━\u001b[0m\u001b[37m\u001b[0m \u001b[1m4s\u001b[0m 4ms/step - accuracy: 0.9375 - loss: 0.3591 - val_accuracy: 0.9458 - val_loss: 0.3206\n",
            "Epoch 4/10\n",
            "\u001b[1m938/938\u001b[0m \u001b[32m━━━━━━━━━━━━━━━━━━━━\u001b[0m\u001b[37m\u001b[0m \u001b[1m5s\u001b[0m 4ms/step - accuracy: 0.9458 - loss: 0.3225 - val_accuracy: 0.9412 - val_loss: 0.3142\n",
            "Epoch 5/10\n",
            "\u001b[1m938/938\u001b[0m \u001b[32m━━━━━━━━━━━━━━━━━━━━\u001b[0m\u001b[37m\u001b[0m \u001b[1m7s\u001b[0m 6ms/step - accuracy: 0.9465 - loss: 0.3094 - val_accuracy: 0.9536 - val_loss: 0.2814\n",
            "Epoch 6/10\n",
            "\u001b[1m938/938\u001b[0m \u001b[32m━━━━━━━━━━━━━━━━━━━━\u001b[0m\u001b[37m\u001b[0m \u001b[1m9s\u001b[0m 5ms/step - accuracy: 0.9513 - loss: 0.2903 - val_accuracy: 0.9444 - val_loss: 0.3118\n",
            "Epoch 7/10\n",
            "\u001b[1m938/938\u001b[0m \u001b[32m━━━━━━━━━━━━━━━━━━━━\u001b[0m\u001b[37m\u001b[0m \u001b[1m5s\u001b[0m 5ms/step - accuracy: 0.9496 - loss: 0.2913 - val_accuracy: 0.9542 - val_loss: 0.2744\n",
            "Epoch 8/10\n",
            "\u001b[1m938/938\u001b[0m \u001b[32m━━━━━━━━━━━━━━━━━━━━\u001b[0m\u001b[37m\u001b[0m \u001b[1m5s\u001b[0m 4ms/step - accuracy: 0.9531 - loss: 0.2742 - val_accuracy: 0.9561 - val_loss: 0.2623\n",
            "Epoch 9/10\n",
            "\u001b[1m938/938\u001b[0m \u001b[32m━━━━━━━━━━━━━━━━━━━━\u001b[0m\u001b[37m\u001b[0m \u001b[1m6s\u001b[0m 6ms/step - accuracy: 0.9555 - loss: 0.2664 - val_accuracy: 0.9530 - val_loss: 0.2645\n",
            "Epoch 10/10\n",
            "\u001b[1m938/938\u001b[0m \u001b[32m━━━━━━━━━━━━━━━━━━━━\u001b[0m\u001b[37m\u001b[0m \u001b[1m4s\u001b[0m 4ms/step - accuracy: 0.9549 - loss: 0.2630 - val_accuracy: 0.9537 - val_loss: 0.2647\n"
          ]
        }
      ]
    },
    {
      "cell_type": "markdown",
      "source": [
        "**Step3:**\n",
        "\n",
        "Combined L1 and L2 Regularization:"
      ],
      "metadata": {
        "id": "c_qTJEkQvJeq"
      }
    },
    {
      "cell_type": "code",
      "source": [
        "from tensorflow.keras.regularizers import l1_l2\n",
        "\n",
        "l1_l2_model = Sequential([\n",
        "    Flatten(input_shape=(28, 28)),\n",
        "    Dense(128, activation='relu', kernel_regularizer=l1_l2(l1=0.01, l2=0.01)),\n",
        "    Dense(10, activation='softmax')\n",
        "])"
      ],
      "metadata": {
        "id": "UHTCHcyOu2yU"
      },
      "execution_count": 16,
      "outputs": []
    },
    {
      "cell_type": "markdown",
      "source": [
        "Compile the model:"
      ],
      "metadata": {
        "id": "j2EiBTlwvNcO"
      }
    },
    {
      "cell_type": "code",
      "source": [
        "l1_l2_model.compile(optimizer='adam',\n",
        "                 loss='categorical_crossentropy',\n",
        "                 metrics=['accuracy'])"
      ],
      "metadata": {
        "id": "RpO_PC5PvXJi"
      },
      "execution_count": 17,
      "outputs": []
    },
    {
      "cell_type": "markdown",
      "source": [
        "Train the model:"
      ],
      "metadata": {
        "id": "FdcoAtA7z1UF"
      }
    },
    {
      "cell_type": "code",
      "source": [
        "l1_l2_history = l1_model.fit(x_train, y_train,\n",
        "                          validation_data=(x_test, y_test),\n",
        "                          epochs=10,\n",
        "                          batch_size=64)"
      ],
      "metadata": {
        "colab": {
          "base_uri": "https://localhost:8080/"
        },
        "id": "wSDamHHFvX29",
        "outputId": "2c3869d8-f675-4474-fe0e-dc4231b8a4f5"
      },
      "execution_count": 18,
      "outputs": [
        {
          "output_type": "stream",
          "name": "stdout",
          "text": [
            "Epoch 1/10\n",
            "\u001b[1m938/938\u001b[0m \u001b[32m━━━━━━━━━━━━━━━━━━━━\u001b[0m\u001b[37m\u001b[0m \u001b[1m5s\u001b[0m 5ms/step - accuracy: 0.8802 - loss: 0.8779 - val_accuracy: 0.8878 - val_loss: 0.8602\n",
            "Epoch 2/10\n",
            "\u001b[1m938/938\u001b[0m \u001b[32m━━━━━━━━━━━━━━━━━━━━\u001b[0m\u001b[37m\u001b[0m \u001b[1m6s\u001b[0m 6ms/step - accuracy: 0.8782 - loss: 0.8806 - val_accuracy: 0.8831 - val_loss: 0.8458\n",
            "Epoch 3/10\n",
            "\u001b[1m938/938\u001b[0m \u001b[32m━━━━━━━━━━━━━━━━━━━━\u001b[0m\u001b[37m\u001b[0m \u001b[1m13s\u001b[0m 9ms/step - accuracy: 0.8798 - loss: 0.8684 - val_accuracy: 0.8938 - val_loss: 0.8264\n",
            "Epoch 4/10\n",
            "\u001b[1m938/938\u001b[0m \u001b[32m━━━━━━━━━━━━━━━━━━━━\u001b[0m\u001b[37m\u001b[0m \u001b[1m5s\u001b[0m 5ms/step - accuracy: 0.8816 - loss: 0.8623 - val_accuracy: 0.8978 - val_loss: 0.8190\n",
            "Epoch 5/10\n",
            "\u001b[1m938/938\u001b[0m \u001b[32m━━━━━━━━━━━━━━━━━━━━\u001b[0m\u001b[37m\u001b[0m \u001b[1m11s\u001b[0m 7ms/step - accuracy: 0.8806 - loss: 0.8566 - val_accuracy: 0.8897 - val_loss: 0.8378\n",
            "Epoch 6/10\n",
            "\u001b[1m938/938\u001b[0m \u001b[32m━━━━━━━━━━━━━━━━━━━━\u001b[0m\u001b[37m\u001b[0m \u001b[1m14s\u001b[0m 10ms/step - accuracy: 0.8852 - loss: 0.8408 - val_accuracy: 0.8911 - val_loss: 0.8254\n",
            "Epoch 7/10\n",
            "\u001b[1m938/938\u001b[0m \u001b[32m━━━━━━━━━━━━━━━━━━━━\u001b[0m\u001b[37m\u001b[0m \u001b[1m13s\u001b[0m 13ms/step - accuracy: 0.8819 - loss: 0.8538 - val_accuracy: 0.9030 - val_loss: 0.7762\n",
            "Epoch 8/10\n",
            "\u001b[1m938/938\u001b[0m \u001b[32m━━━━━━━━━━━━━━━━━━━━\u001b[0m\u001b[37m\u001b[0m \u001b[1m12s\u001b[0m 4ms/step - accuracy: 0.8845 - loss: 0.8366 - val_accuracy: 0.8792 - val_loss: 0.8355\n",
            "Epoch 9/10\n",
            "\u001b[1m938/938\u001b[0m \u001b[32m━━━━━━━━━━━━━━━━━━━━\u001b[0m\u001b[37m\u001b[0m \u001b[1m4s\u001b[0m 5ms/step - accuracy: 0.8837 - loss: 0.8366 - val_accuracy: 0.9005 - val_loss: 0.8012\n",
            "Epoch 10/10\n",
            "\u001b[1m938/938\u001b[0m \u001b[32m━━━━━━━━━━━━━━━━━━━━\u001b[0m\u001b[37m\u001b[0m \u001b[1m6s\u001b[0m 6ms/step - accuracy: 0.8865 - loss: 0.8257 - val_accuracy: 0.8905 - val_loss: 0.8105\n"
          ]
        }
      ]
    },
    {
      "cell_type": "markdown",
      "source": [
        "**3) Dropout**"
      ],
      "metadata": {
        "id": "JIdnQ2mzz9NJ"
      }
    },
    {
      "cell_type": "markdown",
      "source": [
        "**Step1:**\n",
        "\n",
        "Add Dropout Layers"
      ],
      "metadata": {
        "id": "pJqtmxnuz7-Z"
      }
    },
    {
      "cell_type": "markdown",
      "source": [
        "Define a model with dropout:"
      ],
      "metadata": {
        "id": "bEmAYPlS0tUV"
      }
    },
    {
      "cell_type": "code",
      "source": [
        "from tensorflow.keras.layers import Dropout\n",
        "\n",
        "dropout_model = Sequential([\n",
        "    Flatten(input_shape=(28, 28)),\n",
        "    Dense(128, activation='relu'),\n",
        "    Dropout(0.5),  # Dropout rate is 50%\n",
        "    Dense(10, activation='softmax')\n",
        "])"
      ],
      "metadata": {
        "id": "XYlVzcu3z7Cg"
      },
      "execution_count": 19,
      "outputs": []
    },
    {
      "cell_type": "markdown",
      "source": [
        "**Step2:**\n",
        "\n",
        "Compile the Model"
      ],
      "metadata": {
        "id": "9V_rN2BG0z2V"
      }
    },
    {
      "cell_type": "code",
      "source": [
        "dropout_model.compile(optimizer='adam',\n",
        "                      loss='categorical_crossentropy',\n",
        "                      metrics=['accuracy'])"
      ],
      "metadata": {
        "id": "FN7gw01i0vwV"
      },
      "execution_count": 20,
      "outputs": []
    },
    {
      "cell_type": "markdown",
      "source": [
        "**Step3:**\n",
        "\n",
        "Train the Model"
      ],
      "metadata": {
        "id": "LbpqIKtL0-fP"
      }
    },
    {
      "cell_type": "code",
      "source": [
        "dropout_history = dropout_model.fit(x_train, y_train,\n",
        "                                    validation_data=(x_test, y_test),\n",
        "                                    epochs=10,\n",
        "                                    batch_size=64)"
      ],
      "metadata": {
        "colab": {
          "base_uri": "https://localhost:8080/"
        },
        "id": "Tkzw7CqW0zCz",
        "outputId": "96c39328-e376-423d-cbd7-af35c74b846c"
      },
      "execution_count": 21,
      "outputs": [
        {
          "output_type": "stream",
          "name": "stdout",
          "text": [
            "Epoch 1/10\n",
            "\u001b[1m938/938\u001b[0m \u001b[32m━━━━━━━━━━━━━━━━━━━━\u001b[0m\u001b[37m\u001b[0m \u001b[1m6s\u001b[0m 5ms/step - accuracy: 0.7887 - loss: 0.6951 - val_accuracy: 0.9458 - val_loss: 0.1868\n",
            "Epoch 2/10\n",
            "\u001b[1m938/938\u001b[0m \u001b[32m━━━━━━━━━━━━━━━━━━━━\u001b[0m\u001b[37m\u001b[0m \u001b[1m6s\u001b[0m 6ms/step - accuracy: 0.9239 - loss: 0.2595 - val_accuracy: 0.9590 - val_loss: 0.1423\n",
            "Epoch 3/10\n",
            "\u001b[1m938/938\u001b[0m \u001b[32m━━━━━━━━━━━━━━━━━━━━\u001b[0m\u001b[37m\u001b[0m \u001b[1m4s\u001b[0m 5ms/step - accuracy: 0.9404 - loss: 0.2031 - val_accuracy: 0.9623 - val_loss: 0.1217\n",
            "Epoch 4/10\n",
            "\u001b[1m938/938\u001b[0m \u001b[32m━━━━━━━━━━━━━━━━━━━━\u001b[0m\u001b[37m\u001b[0m \u001b[1m5s\u001b[0m 4ms/step - accuracy: 0.9471 - loss: 0.1749 - val_accuracy: 0.9655 - val_loss: 0.1083\n",
            "Epoch 5/10\n",
            "\u001b[1m938/938\u001b[0m \u001b[32m━━━━━━━━━━━━━━━━━━━━\u001b[0m\u001b[37m\u001b[0m \u001b[1m7s\u001b[0m 6ms/step - accuracy: 0.9516 - loss: 0.1609 - val_accuracy: 0.9692 - val_loss: 0.1033\n",
            "Epoch 6/10\n",
            "\u001b[1m938/938\u001b[0m \u001b[32m━━━━━━━━━━━━━━━━━━━━\u001b[0m\u001b[37m\u001b[0m \u001b[1m4s\u001b[0m 4ms/step - accuracy: 0.9549 - loss: 0.1501 - val_accuracy: 0.9706 - val_loss: 0.0962\n",
            "Epoch 7/10\n",
            "\u001b[1m938/938\u001b[0m \u001b[32m━━━━━━━━━━━━━━━━━━━━\u001b[0m\u001b[37m\u001b[0m \u001b[1m7s\u001b[0m 6ms/step - accuracy: 0.9602 - loss: 0.1363 - val_accuracy: 0.9720 - val_loss: 0.0917\n",
            "Epoch 8/10\n",
            "\u001b[1m938/938\u001b[0m \u001b[32m━━━━━━━━━━━━━━━━━━━━\u001b[0m\u001b[37m\u001b[0m \u001b[1m5s\u001b[0m 5ms/step - accuracy: 0.9611 - loss: 0.1271 - val_accuracy: 0.9729 - val_loss: 0.0904\n",
            "Epoch 9/10\n",
            "\u001b[1m938/938\u001b[0m \u001b[32m━━━━━━━━━━━━━━━━━━━━\u001b[0m\u001b[37m\u001b[0m \u001b[1m5s\u001b[0m 5ms/step - accuracy: 0.9608 - loss: 0.1251 - val_accuracy: 0.9731 - val_loss: 0.0870\n",
            "Epoch 10/10\n",
            "\u001b[1m938/938\u001b[0m \u001b[32m━━━━━━━━━━━━━━━━━━━━\u001b[0m\u001b[37m\u001b[0m \u001b[1m6s\u001b[0m 7ms/step - accuracy: 0.9642 - loss: 0.1139 - val_accuracy: 0.9744 - val_loss: 0.0825\n"
          ]
        }
      ]
    },
    {
      "cell_type": "markdown",
      "source": [
        "**4) Early Stopping**"
      ],
      "metadata": {
        "id": "p4Dp3yDi1neh"
      }
    },
    {
      "cell_type": "markdown",
      "source": [
        "**Step1:**\n",
        "\n",
        "Define Early Stopping"
      ],
      "metadata": {
        "id": "I4khouvh1ug1"
      }
    },
    {
      "cell_type": "code",
      "source": [
        "from tensorflow.keras.callbacks import EarlyStopping\n",
        "\n",
        "early_stopping = EarlyStopping(monitor='val_loss', patience=3, min_delta=0.01)"
      ],
      "metadata": {
        "id": "Xs-TRB6G08wC"
      },
      "execution_count": 22,
      "outputs": []
    },
    {
      "cell_type": "markdown",
      "source": [
        "**Step2:**\n",
        "\n",
        "Build and Compile a Model"
      ],
      "metadata": {
        "id": "VchU2wIr3Uzp"
      }
    },
    {
      "cell_type": "code",
      "source": [
        "(x_train, y_train), (x_test, y_test) = mnist.load_data()\n",
        "x_train = x_train / 255.0\n",
        "x_test = x_test / 255.0\n",
        "y_train = to_categorical(y_train, 10)\n",
        "y_test = to_categorical(y_test, 10)\n",
        "baseline_model = Sequential([\n",
        "    Flatten(input_shape=(28, 28)),  # Flatten 28x28 images into 1D\n",
        "    Dense(128, activation='relu'),  # Fully connected layer with 128 neurons\n",
        "    Dense(10, activation='softmax')  # Output layer with 10 classes\n",
        "])\n",
        "baseline_model.compile(optimizer='adam',\n",
        "                       loss='categorical_crossentropy',\n",
        "                       metrics=['accuracy'])\n"
      ],
      "metadata": {
        "id": "TbRswLhf3UlF"
      },
      "execution_count": 23,
      "outputs": []
    },
    {
      "cell_type": "markdown",
      "source": [
        "**Step3:**\n",
        "\n",
        "Train with Early Stopping"
      ],
      "metadata": {
        "id": "wcJ6RUlZ3oDE"
      }
    },
    {
      "cell_type": "code",
      "source": [
        "early_history = baseline_model.fit(x_train, y_train,\n",
        "                                   validation_data=(x_test, y_test),\n",
        "                                   epochs=50,\n",
        "                                   batch_size=64,\n",
        "                                   callbacks=[early_stopping])\n"
      ],
      "metadata": {
        "colab": {
          "base_uri": "https://localhost:8080/"
        },
        "id": "DC06DmH31tbA",
        "outputId": "ff365975-6a8b-43f0-bdfe-c2e52bb41eb4"
      },
      "execution_count": 24,
      "outputs": [
        {
          "output_type": "stream",
          "name": "stdout",
          "text": [
            "Epoch 1/50\n",
            "\u001b[1m938/938\u001b[0m \u001b[32m━━━━━━━━━━━━━━━━━━━━\u001b[0m\u001b[37m\u001b[0m \u001b[1m6s\u001b[0m 6ms/step - accuracy: 0.8549 - loss: 0.5166 - val_accuracy: 0.9475 - val_loss: 0.1770\n",
            "Epoch 2/50\n",
            "\u001b[1m938/938\u001b[0m \u001b[32m━━━━━━━━━━━━━━━━━━━━\u001b[0m\u001b[37m\u001b[0m \u001b[1m4s\u001b[0m 5ms/step - accuracy: 0.9555 - loss: 0.1539 - val_accuracy: 0.9658 - val_loss: 0.1181\n",
            "Epoch 3/50\n",
            "\u001b[1m938/938\u001b[0m \u001b[32m━━━━━━━━━━━━━━━━━━━━\u001b[0m\u001b[37m\u001b[0m \u001b[1m4s\u001b[0m 4ms/step - accuracy: 0.9708 - loss: 0.0998 - val_accuracy: 0.9714 - val_loss: 0.0957\n",
            "Epoch 4/50\n",
            "\u001b[1m938/938\u001b[0m \u001b[32m━━━━━━━━━━━━━━━━━━━━\u001b[0m\u001b[37m\u001b[0m \u001b[1m5s\u001b[0m 6ms/step - accuracy: 0.9789 - loss: 0.0739 - val_accuracy: 0.9750 - val_loss: 0.0848\n",
            "Epoch 5/50\n",
            "\u001b[1m938/938\u001b[0m \u001b[32m━━━━━━━━━━━━━━━━━━━━\u001b[0m\u001b[37m\u001b[0m \u001b[1m4s\u001b[0m 5ms/step - accuracy: 0.9839 - loss: 0.0561 - val_accuracy: 0.9738 - val_loss: 0.0817\n",
            "Epoch 6/50\n",
            "\u001b[1m938/938\u001b[0m \u001b[32m━━━━━━━━━━━━━━━━━━━━\u001b[0m\u001b[37m\u001b[0m \u001b[1m5s\u001b[0m 4ms/step - accuracy: 0.9874 - loss: 0.0448 - val_accuracy: 0.9768 - val_loss: 0.0753\n",
            "Epoch 7/50\n",
            "\u001b[1m938/938\u001b[0m \u001b[32m━━━━━━━━━━━━━━━━━━━━\u001b[0m\u001b[37m\u001b[0m \u001b[1m6s\u001b[0m 6ms/step - accuracy: 0.9901 - loss: 0.0364 - val_accuracy: 0.9776 - val_loss: 0.0725\n",
            "Epoch 8/50\n",
            "\u001b[1m938/938\u001b[0m \u001b[32m━━━━━━━━━━━━━━━━━━━━\u001b[0m\u001b[37m\u001b[0m \u001b[1m8s\u001b[0m 4ms/step - accuracy: 0.9920 - loss: 0.0286 - val_accuracy: 0.9760 - val_loss: 0.0768\n",
            "Epoch 9/50\n",
            "\u001b[1m938/938\u001b[0m \u001b[32m━━━━━━━━━━━━━━━━━━━━\u001b[0m\u001b[37m\u001b[0m \u001b[1m7s\u001b[0m 6ms/step - accuracy: 0.9940 - loss: 0.0221 - val_accuracy: 0.9769 - val_loss: 0.0777\n",
            "Epoch 10/50\n",
            "\u001b[1m938/938\u001b[0m \u001b[32m━━━━━━━━━━━━━━━━━━━━\u001b[0m\u001b[37m\u001b[0m \u001b[1m8s\u001b[0m 4ms/step - accuracy: 0.9951 - loss: 0.0181 - val_accuracy: 0.9795 - val_loss: 0.0702\n"
          ]
        }
      ]
    },
    {
      "cell_type": "markdown",
      "source": [
        "**5) Data Augmentation**"
      ],
      "metadata": {
        "id": "FcASP0cK4LQA"
      }
    },
    {
      "cell_type": "markdown",
      "source": [
        "**Step1:**\n",
        "\n",
        "Create Data Augmentation Generator"
      ],
      "metadata": {
        "id": "6yYICwau_ytQ"
      }
    },
    {
      "cell_type": "code",
      "source": [
        "from tensorflow.keras.preprocessing.image import ImageDataGenerator\n",
        "\n",
        "datagen = ImageDataGenerator(\n",
        "    rotation_range=10,\n",
        "    width_shift_range=0.1,\n",
        "    height_shift_range=0.1,\n",
        "    shear_range=0.1,\n",
        "    zoom_range=0.1\n",
        ")"
      ],
      "metadata": {
        "id": "BBR1Nkw43okh"
      },
      "execution_count": 25,
      "outputs": []
    },
    {
      "cell_type": "markdown",
      "source": [
        "**Step2:**\n",
        "\n",
        "Fit Data Generator"
      ],
      "metadata": {
        "id": "QuH2jykQ_hIh"
      }
    },
    {
      "cell_type": "code",
      "source": [
        "x_train = x_train.reshape(x_train.shape[0], 28, 28, 1)\n",
        "datagen.fit(x_train)"
      ],
      "metadata": {
        "id": "0F_QZ-JA-tq7"
      },
      "execution_count": 26,
      "outputs": []
    },
    {
      "cell_type": "markdown",
      "source": [
        "**Step3:**\n",
        "\n",
        "Train Model with Augmented Data"
      ],
      "metadata": {
        "id": "si9FS_kO_ho1"
      }
    },
    {
      "cell_type": "code",
      "source": [
        "aug_history = baseline_model.fit(datagen.flow(x_train, y_train, batch_size=64),\n",
        "                                 validation_data=(x_test, y_test),\n",
        "                                 epochs=10)"
      ],
      "metadata": {
        "colab": {
          "base_uri": "https://localhost:8080/"
        },
        "id": "cJ34IBQC-vRD",
        "outputId": "06b020f0-dc5d-4588-f9d3-4e9b716e2bb1"
      },
      "execution_count": 27,
      "outputs": [
        {
          "output_type": "stream",
          "name": "stdout",
          "text": [
            "Epoch 1/10\n"
          ]
        },
        {
          "output_type": "stream",
          "name": "stderr",
          "text": [
            "/usr/local/lib/python3.11/dist-packages/keras/src/trainers/data_adapters/py_dataset_adapter.py:121: UserWarning: Your `PyDataset` class should call `super().__init__(**kwargs)` in its constructor. `**kwargs` can include `workers`, `use_multiprocessing`, `max_queue_size`. Do not pass these arguments to `fit()`, as they will be ignored.\n",
            "  self._warn_if_super_not_called()\n"
          ]
        },
        {
          "output_type": "stream",
          "name": "stdout",
          "text": [
            "\u001b[1m938/938\u001b[0m \u001b[32m━━━━━━━━━━━━━━━━━━━━\u001b[0m\u001b[37m\u001b[0m \u001b[1m31s\u001b[0m 32ms/step - accuracy: 0.8791 - loss: 0.4546 - val_accuracy: 0.9694 - val_loss: 0.1001\n",
            "Epoch 2/10\n",
            "\u001b[1m938/938\u001b[0m \u001b[32m━━━━━━━━━━━━━━━━━━━━\u001b[0m\u001b[37m\u001b[0m \u001b[1m26s\u001b[0m 27ms/step - accuracy: 0.9390 - loss: 0.2061 - val_accuracy: 0.9740 - val_loss: 0.0808\n",
            "Epoch 3/10\n",
            "\u001b[1m938/938\u001b[0m \u001b[32m━━━━━━━━━━━━━━━━━━━━\u001b[0m\u001b[37m\u001b[0m \u001b[1m26s\u001b[0m 28ms/step - accuracy: 0.9474 - loss: 0.1754 - val_accuracy: 0.9775 - val_loss: 0.0724\n",
            "Epoch 4/10\n",
            "\u001b[1m938/938\u001b[0m \u001b[32m━━━━━━━━━━━━━━━━━━━━\u001b[0m\u001b[37m\u001b[0m \u001b[1m41s\u001b[0m 28ms/step - accuracy: 0.9498 - loss: 0.1638 - val_accuracy: 0.9765 - val_loss: 0.0732\n",
            "Epoch 5/10\n",
            "\u001b[1m938/938\u001b[0m \u001b[32m━━━━━━━━━━━━━━━━━━━━\u001b[0m\u001b[37m\u001b[0m \u001b[1m26s\u001b[0m 28ms/step - accuracy: 0.9562 - loss: 0.1455 - val_accuracy: 0.9767 - val_loss: 0.0761\n",
            "Epoch 6/10\n",
            "\u001b[1m938/938\u001b[0m \u001b[32m━━━━━━━━━━━━━━━━━━━━\u001b[0m\u001b[37m\u001b[0m \u001b[1m26s\u001b[0m 28ms/step - accuracy: 0.9566 - loss: 0.1442 - val_accuracy: 0.9787 - val_loss: 0.0664\n",
            "Epoch 7/10\n",
            "\u001b[1m938/938\u001b[0m \u001b[32m━━━━━━━━━━━━━━━━━━━━\u001b[0m\u001b[37m\u001b[0m \u001b[1m41s\u001b[0m 28ms/step - accuracy: 0.9620 - loss: 0.1259 - val_accuracy: 0.9780 - val_loss: 0.0662\n",
            "Epoch 8/10\n",
            "\u001b[1m938/938\u001b[0m \u001b[32m━━━━━━━━━━━━━━━━━━━━\u001b[0m\u001b[37m\u001b[0m \u001b[1m26s\u001b[0m 28ms/step - accuracy: 0.9621 - loss: 0.1264 - val_accuracy: 0.9778 - val_loss: 0.0679\n",
            "Epoch 9/10\n",
            "\u001b[1m938/938\u001b[0m \u001b[32m━━━━━━━━━━━━━━━━━━━━\u001b[0m\u001b[37m\u001b[0m \u001b[1m26s\u001b[0m 28ms/step - accuracy: 0.9633 - loss: 0.1246 - val_accuracy: 0.9790 - val_loss: 0.0663\n",
            "Epoch 10/10\n",
            "\u001b[1m938/938\u001b[0m \u001b[32m━━━━━━━━━━━━━━━━━━━━\u001b[0m\u001b[37m\u001b[0m \u001b[1m43s\u001b[0m 30ms/step - accuracy: 0.9644 - loss: 0.1181 - val_accuracy: 0.9796 - val_loss: 0.0663\n"
          ]
        }
      ]
    },
    {
      "cell_type": "markdown",
      "source": [
        "**6) Combined Regularization**"
      ],
      "metadata": {
        "id": "TssBO6-U_Xji"
      }
    },
    {
      "cell_type": "markdown",
      "source": [
        "**Step1:**\n",
        "\n",
        "Build a Model with Multiple Regularizations"
      ],
      "metadata": {
        "id": "Cv7MvaFh_bo4"
      }
    },
    {
      "cell_type": "code",
      "source": [
        "combined_model = Sequential([\n",
        "    Flatten(input_shape=(28, 28)),\n",
        "    Dense(128, activation='relu', kernel_regularizer=l2(0.01)),\n",
        "    Dropout(0.5),\n",
        "    Dense(10, activation='softmax')\n",
        "])"
      ],
      "metadata": {
        "id": "a_iCgSG8-xEx"
      },
      "execution_count": 28,
      "outputs": []
    },
    {
      "cell_type": "markdown",
      "source": [
        "**Step2:**\n",
        "\n",
        "Compile and Train"
      ],
      "metadata": {
        "id": "dA7WOxX8_oMb"
      }
    },
    {
      "cell_type": "code",
      "source": [
        "combined_model.compile(optimizer='adam',\n",
        "                      loss='categorical_crossentropy',\n",
        "                      metrics=['accuracy'])\n",
        "\n",
        "combined_history = combined_model.fit(datagen.flow(x_train, y_train, batch_size=64),\n",
        "                                      validation_data=(x_test, y_test),\n",
        "                                      epochs=10)"
      ],
      "metadata": {
        "colab": {
          "base_uri": "https://localhost:8080/"
        },
        "id": "sBSRr2_K_kn7",
        "outputId": "1e8510f6-5f9b-481a-f2e5-4477c343e082"
      },
      "execution_count": 29,
      "outputs": [
        {
          "output_type": "stream",
          "name": "stdout",
          "text": [
            "Epoch 1/10\n",
            "\u001b[1m938/938\u001b[0m \u001b[32m━━━━━━━━━━━━━━━━━━━━\u001b[0m\u001b[37m\u001b[0m \u001b[1m28s\u001b[0m 28ms/step - accuracy: 0.5666 - loss: 2.0198 - val_accuracy: 0.9049 - val_loss: 0.6710\n",
            "Epoch 2/10\n",
            "\u001b[1m938/938\u001b[0m \u001b[32m━━━━━━━━━━━━━━━━━━━━\u001b[0m\u001b[37m\u001b[0m \u001b[1m27s\u001b[0m 28ms/step - accuracy: 0.7518 - loss: 1.0509 - val_accuracy: 0.9311 - val_loss: 0.5714\n",
            "Epoch 3/10\n",
            "\u001b[1m938/938\u001b[0m \u001b[32m━━━━━━━━━━━━━━━━━━━━\u001b[0m\u001b[37m\u001b[0m \u001b[1m27s\u001b[0m 29ms/step - accuracy: 0.7840 - loss: 0.9563 - val_accuracy: 0.9312 - val_loss: 0.5472\n",
            "Epoch 4/10\n",
            "\u001b[1m938/938\u001b[0m \u001b[32m━━━━━━━━━━━━━━━━━━━━\u001b[0m\u001b[37m\u001b[0m \u001b[1m41s\u001b[0m 29ms/step - accuracy: 0.7981 - loss: 0.9016 - val_accuracy: 0.9424 - val_loss: 0.5004\n",
            "Epoch 5/10\n",
            "\u001b[1m938/938\u001b[0m \u001b[32m━━━━━━━━━━━━━━━━━━━━\u001b[0m\u001b[37m\u001b[0m \u001b[1m27s\u001b[0m 28ms/step - accuracy: 0.8027 - loss: 0.8829 - val_accuracy: 0.9469 - val_loss: 0.4822\n",
            "Epoch 6/10\n",
            "\u001b[1m938/938\u001b[0m \u001b[32m━━━━━━━━━━━━━━━━━━━━\u001b[0m\u001b[37m\u001b[0m \u001b[1m28s\u001b[0m 30ms/step - accuracy: 0.8099 - loss: 0.8491 - val_accuracy: 0.9467 - val_loss: 0.4602\n",
            "Epoch 7/10\n",
            "\u001b[1m938/938\u001b[0m \u001b[32m━━━━━━━━━━━━━━━━━━━━\u001b[0m\u001b[37m\u001b[0m \u001b[1m28s\u001b[0m 29ms/step - accuracy: 0.8137 - loss: 0.8414 - val_accuracy: 0.9512 - val_loss: 0.4548\n",
            "Epoch 8/10\n",
            "\u001b[1m938/938\u001b[0m \u001b[32m━━━━━━━━━━━━━━━━━━━━\u001b[0m\u001b[37m\u001b[0m \u001b[1m27s\u001b[0m 29ms/step - accuracy: 0.8168 - loss: 0.8239 - val_accuracy: 0.9484 - val_loss: 0.4310\n",
            "Epoch 9/10\n",
            "\u001b[1m938/938\u001b[0m \u001b[32m━━━━━━━━━━━━━━━━━━━━\u001b[0m\u001b[37m\u001b[0m \u001b[1m28s\u001b[0m 29ms/step - accuracy: 0.8218 - loss: 0.8124 - val_accuracy: 0.9474 - val_loss: 0.4479\n",
            "Epoch 10/10\n",
            "\u001b[1m938/938\u001b[0m \u001b[32m━━━━━━━━━━━━━━━━━━━━\u001b[0m\u001b[37m\u001b[0m \u001b[1m29s\u001b[0m 31ms/step - accuracy: 0.8184 - loss: 0.8117 - val_accuracy: 0.9454 - val_loss: 0.4353\n"
          ]
        }
      ]
    },
    {
      "cell_type": "code",
      "source": [
        "import matplotlib.pyplot as plt\n",
        "\n",
        "# Short function to plot loss & accuracy\n",
        "def plot_history(histories, labels):\n",
        "    plt.figure(figsize=(20, 10))\n",
        "\n",
        "    for metric, title in zip(['loss', 'accuracy'], ['Loss', 'Accuracy']):\n",
        "        plt.subplot(1, 2, ['loss', 'accuracy'].index(metric) + 1)\n",
        "        for history, label in zip(histories, labels):\n",
        "            if history and hasattr(history, 'history'):  # Ensure valid history object\n",
        "                plt.plot(history.history[metric], linestyle='--', label=f'{label} Train')\n",
        "                plt.plot(history.history[f'val_{metric}'], label=f'{label} Val')\n",
        "        plt.xlabel('Epochs')\n",
        "        plt.ylabel(title)\n",
        "        plt.title(f'Training & Validation {title}')\n",
        "        plt.legend()\n",
        "\n",
        "    plt.show()\n",
        "\n",
        "# Ensure `histories` contains only valid history objects\n",
        "histories = [baseline_history, l1_history, l2_history, l1_l2_history,\n",
        "             dropout_history, early_history, aug_history, combined_history]\n",
        "\n",
        "labels = [\"Baseline\", \"L1 Reg\", \"L2 Reg\", \"L1+L2 Reg\", \"Dropout\",\n",
        "          \"Early Stopping\", \"Data Augmentation\", \"Combined\"]\n",
        "\n",
        "# Plot results\n",
        "plot_history(histories, labels)"
      ],
      "metadata": {
        "colab": {
          "base_uri": "https://localhost:8080/",
          "height": 623
        },
        "id": "uEwA7mCFQW-z",
        "outputId": "3416572a-db1a-409e-a9b9-e128587408b7"
      },
      "execution_count": 60,
      "outputs": [
        {
          "output_type": "display_data",
          "data": {
            "text/plain": [
              "<Figure size 2000x1000 with 2 Axes>"
            ],
            "image/png": "[encoded data removed]"
          },
          "metadata": {}
        }
      ]
    },
    {
      "cell_type": "markdown",
      "source": [
        "**Lab4**\n",
        "\n",
        "**04/02/2025**"
      ],
      "metadata": {
        "id": "aWh7v8TouH29"
      }
    },
    {
      "cell_type": "markdown",
      "source": [
        "**Step 1:** Import Required Libraries"
      ],
      "metadata": {
        "id": "ulYpF_HiuYgt"
      }
    },
    {
      "cell_type": "code",
      "source": [
        "import tensorflow as tf\n",
        "from tensorflow.keras.models import Sequential\n",
        "from tensorflow.keras.layers import Dense, Flatten, Dropout\n",
        "from tensorflow.keras.datasets import mnist\n",
        "from tensorflow.keras.utils import to_categorical\n",
        "from tensorflow.keras.regularizers import l1, l2, l1_l2\n",
        "import matplotlib.pyplot as plt"
      ],
      "metadata": {
        "id": "BzkCv4MBub0O"
      },
      "execution_count": null,
      "outputs": []
    },
    {
      "cell_type": "markdown",
      "source": [
        "**Step 2:** Load and Preprocess the Dataset"
      ],
      "metadata": {
        "id": "qdU16YiMubcL"
      }
    },
    {
      "cell_type": "code",
      "source": [
        "# Load MNIST dataset\n",
        "(x_train, y_train), (x_test, y_test) = mnist.load_data()\n",
        "\n",
        "# Normalize pixel values (scale between 0 and 1)\n",
        "x_train = x_train / 255.0\n",
        "x_test = x_test / 255.0\n",
        "\n",
        "# One-hot encode labels (for multi-class classification)\n",
        "y_train = to_categorical(y_train, 10)\n",
        "y_test = to_categorical(y_test, 10)"
      ],
      "metadata": {
        "id": "EEo_MU-TueEJ"
      },
      "execution_count": null,
      "outputs": []
    },
    {
      "cell_type": "markdown",
      "source": [
        "**Step 3:** Build a Neural Network Without Regularization"
      ],
      "metadata": {
        "id": "eveokQyDufaM"
      }
    },
    {
      "cell_type": "code",
      "source": [
        "# Define a simple feedforward neural network (Baseline Model)\n",
        "baseline_model = Sequential([\n",
        "    Flatten(input_shape=(28, 28)),\n",
        "    Dense(128, activation='relu'),\n",
        "    Dense(10, activation='softmax')\n",
        "])\n",
        "\n",
        "# Compile the model\n",
        "baseline_model.compile(optimizer='adam',\n",
        "                       loss='categorical_crossentropy',\n",
        "                       metrics=['accuracy'])\n",
        "\n",
        "# Train the model\n",
        "baseline_history = baseline_model.fit(x_train, y_train,\n",
        "                                      validation_data=(x_test, y_test),\n",
        "                                      epochs=10,\n",
        "                                      batch_size=64)\n",
        "\n",
        "# Evaluate baseline model\n",
        "baseline_results = baseline_model.evaluate(x_test, y_test)\n",
        "print(\"Baseline Model Test Accuracy:\", baseline_results[1])"
      ],
      "metadata": {
        "colab": {
          "base_uri": "https://localhost:8080/"
        },
        "id": "E--iYiuXuenA",
        "outputId": "b712478b-a1c6-4c4f-9dff-846aff18a47a"
      },
      "execution_count": null,
      "outputs": [
        {
          "output_type": "stream",
          "name": "stdout",
          "text": [
            "Epoch 1/10\n",
            "\u001b[1m938/938\u001b[0m \u001b[32m━━━━━━━━━━━━━━━━━━━━\u001b[0m\u001b[37m\u001b[0m \u001b[1m12s\u001b[0m 7ms/step - accuracy: 0.8577 - loss: 0.5060 - val_accuracy: 0.9496 - val_loss: 0.1693\n",
            "Epoch 2/10\n",
            "\u001b[1m938/938\u001b[0m \u001b[32m━━━━━━━━━━━━━━━━━━━━\u001b[0m\u001b[37m\u001b[0m \u001b[1m8s\u001b[0m 6ms/step - accuracy: 0.9565 - loss: 0.1507 - val_accuracy: 0.9628 - val_loss: 0.1175\n",
            "Epoch 3/10\n",
            "\u001b[1m938/938\u001b[0m \u001b[32m━━━━━━━━━━━━━━━━━━━━\u001b[0m\u001b[37m\u001b[0m \u001b[1m15s\u001b[0m 10ms/step - accuracy: 0.9707 - loss: 0.1004 - val_accuracy: 0.9737 - val_loss: 0.0904\n",
            "Epoch 4/10\n",
            "\u001b[1m938/938\u001b[0m \u001b[32m━━━━━━━━━━━━━━━━━━━━\u001b[0m\u001b[37m\u001b[0m \u001b[1m10s\u001b[0m 10ms/step - accuracy: 0.9785 - loss: 0.0755 - val_accuracy: 0.9758 - val_loss: 0.0787\n",
            "Epoch 5/10\n",
            "\u001b[1m938/938\u001b[0m \u001b[32m━━━━━━━━━━━━━━━━━━━━\u001b[0m\u001b[37m\u001b[0m \u001b[1m8s\u001b[0m 8ms/step - accuracy: 0.9836 - loss: 0.0561 - val_accuracy: 0.9746 - val_loss: 0.0809\n",
            "Epoch 6/10\n",
            "\u001b[1m938/938\u001b[0m \u001b[32m━━━━━━━━━━━━━━━━━━━━\u001b[0m\u001b[37m\u001b[0m \u001b[1m8s\u001b[0m 5ms/step - accuracy: 0.9876 - loss: 0.0422 - val_accuracy: 0.9793 - val_loss: 0.0705\n",
            "Epoch 7/10\n",
            "\u001b[1m938/938\u001b[0m \u001b[32m━━━━━━━━━━━━━━━━━━━━\u001b[0m\u001b[37m\u001b[0m \u001b[1m4s\u001b[0m 4ms/step - accuracy: 0.9905 - loss: 0.0356 - val_accuracy: 0.9749 - val_loss: 0.0799\n",
            "Epoch 8/10\n",
            "\u001b[1m938/938\u001b[0m \u001b[32m━━━━━━━━━━━━━━━━━━━━\u001b[0m\u001b[37m\u001b[0m \u001b[1m7s\u001b[0m 8ms/step - accuracy: 0.9925 - loss: 0.0284 - val_accuracy: 0.9754 - val_loss: 0.0811\n",
            "Epoch 9/10\n",
            "\u001b[1m938/938\u001b[0m \u001b[32m━━━━━━━━━━━━━━━━━━━━\u001b[0m\u001b[37m\u001b[0m \u001b[1m4s\u001b[0m 4ms/step - accuracy: 0.9931 - loss: 0.0230 - val_accuracy: 0.9804 - val_loss: 0.0692\n",
            "Epoch 10/10\n",
            "\u001b[1m938/938\u001b[0m \u001b[32m━━━━━━━━━━━━━━━━━━━━\u001b[0m\u001b[37m\u001b[0m \u001b[1m3s\u001b[0m 3ms/step - accuracy: 0.9948 - loss: 0.0195 - val_accuracy: 0.9767 - val_loss: 0.0736\n",
            "\u001b[1m313/313\u001b[0m \u001b[32m━━━━━━━━━━━━━━━━━━━━\u001b[0m\u001b[37m\u001b[0m \u001b[1m1s\u001b[0m 2ms/step - accuracy: 0.9734 - loss: 0.0852\n",
            "Baseline Model Test Accuracy: 0.9767000079154968\n"
          ]
        }
      ]
    },
    {
      "cell_type": "markdown",
      "source": [
        "**Step 4:** Build a Neural Network With Regularization"
      ],
      "metadata": {
        "id": "5pABqAQruiKJ"
      }
    },
    {
      "cell_type": "markdown",
      "source": [
        "**(A)** L1 Regularization"
      ],
      "metadata": {
        "id": "1o_PLMX_ujuj"
      }
    },
    {
      "cell_type": "code",
      "source": [
        "l1_model = Sequential([\n",
        "    Flatten(input_shape=(28, 28)),\n",
        "    Dense(128, activation='relu', kernel_regularizer=l1(0.01)),\n",
        "    Dense(10, activation='softmax')\n",
        "])\n",
        "\n",
        "l1_model.compile(optimizer='adam', loss='categorical_crossentropy', metrics=['accuracy'])\n",
        "\n",
        "l1_history = l1_model.fit(x_train, y_train,\n",
        "                          validation_data=(x_test, y_test),\n",
        "                          epochs=10,\n",
        "                          batch_size=64)\n",
        "\n",
        "print(\"L1 Regularized Model Accuracy:\", l1_model.evaluate(x_test, y_test)[1])"
      ],
      "metadata": {
        "colab": {
          "base_uri": "https://localhost:8080/"
        },
        "id": "8X8tZ2Kruhms",
        "outputId": "ac8ccc87-0264-4db5-d612-a790b8547c8d"
      },
      "execution_count": null,
      "outputs": [
        {
          "output_type": "stream",
          "name": "stdout",
          "text": [
            "Epoch 1/10\n",
            "\u001b[1m938/938\u001b[0m \u001b[32m━━━━━━━━━━━━━━━━━━━━\u001b[0m\u001b[37m\u001b[0m \u001b[1m8s\u001b[0m 7ms/step - accuracy: 0.7379 - loss: 7.2314 - val_accuracy: 0.8520 - val_loss: 1.2222\n",
            "Epoch 2/10\n",
            "\u001b[1m938/938\u001b[0m \u001b[32m━━━━━━━━━━━━━━━━━━━━\u001b[0m\u001b[37m\u001b[0m \u001b[1m8s\u001b[0m 5ms/step - accuracy: 0.8474 - loss: 1.2034 - val_accuracy: 0.8632 - val_loss: 1.0805\n",
            "Epoch 3/10\n",
            "\u001b[1m938/938\u001b[0m \u001b[32m━━━━━━━━━━━━━━━━━━━━\u001b[0m\u001b[37m\u001b[0m \u001b[1m6s\u001b[0m 7ms/step - accuracy: 0.8538 - loss: 1.0929 - val_accuracy: 0.8630 - val_loss: 1.0319\n",
            "Epoch 4/10\n",
            "\u001b[1m938/938\u001b[0m \u001b[32m━━━━━━━━━━━━━━━━━━━━\u001b[0m\u001b[37m\u001b[0m \u001b[1m5s\u001b[0m 5ms/step - accuracy: 0.8651 - loss: 1.0232 - val_accuracy: 0.8601 - val_loss: 1.0263\n",
            "Epoch 5/10\n",
            "\u001b[1m938/938\u001b[0m \u001b[32m━━━━━━━━━━━━━━━━━━━━\u001b[0m\u001b[37m\u001b[0m \u001b[1m6s\u001b[0m 6ms/step - accuracy: 0.8672 - loss: 0.9843 - val_accuracy: 0.8651 - val_loss: 0.9453\n",
            "Epoch 6/10\n",
            "\u001b[1m938/938\u001b[0m \u001b[32m━━━━━━━━━━━━━━━━━━━━\u001b[0m\u001b[37m\u001b[0m \u001b[1m5s\u001b[0m 5ms/step - accuracy: 0.8705 - loss: 0.9534 - val_accuracy: 0.8774 - val_loss: 0.9168\n",
            "Epoch 7/10\n",
            "\u001b[1m938/938\u001b[0m \u001b[32m━━━━━━━━━━━━━━━━━━━━\u001b[0m\u001b[37m\u001b[0m \u001b[1m6s\u001b[0m 7ms/step - accuracy: 0.8702 - loss: 0.9351 - val_accuracy: 0.8758 - val_loss: 0.9105\n",
            "Epoch 8/10\n",
            "\u001b[1m938/938\u001b[0m \u001b[32m━━━━━━━━━━━━━━━━━━━━\u001b[0m\u001b[37m\u001b[0m \u001b[1m10s\u001b[0m 6ms/step - accuracy: 0.8742 - loss: 0.9090 - val_accuracy: 0.8688 - val_loss: 0.9012\n",
            "Epoch 9/10\n",
            "\u001b[1m938/938\u001b[0m \u001b[32m━━━━━━━━━━━━━━━━━━━━\u001b[0m\u001b[37m\u001b[0m \u001b[1m13s\u001b[0m 9ms/step - accuracy: 0.8783 - loss: 0.8904 - val_accuracy: 0.8891 - val_loss: 0.8636\n",
            "Epoch 10/10\n",
            "\u001b[1m938/938\u001b[0m \u001b[32m━━━━━━━━━━━━━━━━━━━━\u001b[0m\u001b[37m\u001b[0m \u001b[1m9s\u001b[0m 10ms/step - accuracy: 0.8759 - loss: 0.8906 - val_accuracy: 0.8859 - val_loss: 0.8628\n",
            "\u001b[1m313/313\u001b[0m \u001b[32m━━━━━━━━━━━━━━━━━━━━\u001b[0m\u001b[37m\u001b[0m \u001b[1m1s\u001b[0m 3ms/step - accuracy: 0.8671 - loss: 0.9175\n",
            "L1 Regularized Model Accuracy: 0.8859000205993652\n"
          ]
        }
      ]
    },
    {
      "cell_type": "markdown",
      "source": [
        "**(B)** L2 Regularization"
      ],
      "metadata": {
        "id": "zD6rw6aVumrg"
      }
    },
    {
      "cell_type": "code",
      "source": [
        "l2_model = Sequential([\n",
        "    Flatten(input_shape=(28, 28)),\n",
        "    Dense(128, activation='relu', kernel_regularizer=l2(0.01)),\n",
        "    Dense(10, activation='softmax')\n",
        "])\n",
        "\n",
        "l2_model.compile(optimizer='adam', loss='categorical_crossentropy', metrics=['accuracy'])\n",
        "\n",
        "l2_history = l2_model.fit(x_train, y_train,\n",
        "                          validation_data=(x_test, y_test),\n",
        "                          epochs=10,\n",
        "                          batch_size=64)\n",
        "\n",
        "print(\"L2 Regularized Model Accuracy:\", l2_model.evaluate(x_test, y_test)[1])"
      ],
      "metadata": {
        "colab": {
          "base_uri": "https://localhost:8080/"
        },
        "id": "CF-fpO7NulYt",
        "outputId": "6c37cba8-8765-48e8-a4ca-fe399e37f73a"
      },
      "execution_count": null,
      "outputs": [
        {
          "output_type": "stream",
          "name": "stdout",
          "text": [
            "Epoch 1/10\n",
            "\u001b[1m938/938\u001b[0m \u001b[32m━━━━━━━━━━━━━━━━━━━━\u001b[0m\u001b[37m\u001b[0m \u001b[1m6s\u001b[0m 6ms/step - accuracy: 0.8432 - loss: 1.1484 - val_accuracy: 0.9200 - val_loss: 0.4330\n",
            "Epoch 2/10\n",
            "\u001b[1m938/938\u001b[0m \u001b[32m━━━━━━━━━━━━━━━━━━━━\u001b[0m\u001b[37m\u001b[0m \u001b[1m9s\u001b[0m 4ms/step - accuracy: 0.9236 - loss: 0.4176 - val_accuracy: 0.9385 - val_loss: 0.3547\n",
            "Epoch 3/10\n",
            "\u001b[1m938/938\u001b[0m \u001b[32m━━━━━━━━━━━━━━━━━━━━\u001b[0m\u001b[37m\u001b[0m \u001b[1m6s\u001b[0m 7ms/step - accuracy: 0.9382 - loss: 0.3583 - val_accuracy: 0.9424 - val_loss: 0.3303\n",
            "Epoch 4/10\n",
            "\u001b[1m938/938\u001b[0m \u001b[32m━━━━━━━━━━━━━━━━━━━━\u001b[0m\u001b[37m\u001b[0m \u001b[1m8s\u001b[0m 4ms/step - accuracy: 0.9440 - loss: 0.3279 - val_accuracy: 0.9452 - val_loss: 0.3200\n",
            "Epoch 5/10\n",
            "\u001b[1m938/938\u001b[0m \u001b[32m━━━━━━━━━━━━━━━━━━━━\u001b[0m\u001b[37m\u001b[0m \u001b[1m8s\u001b[0m 7ms/step - accuracy: 0.9451 - loss: 0.3175 - val_accuracy: 0.9529 - val_loss: 0.2833\n",
            "Epoch 6/10\n",
            "\u001b[1m938/938\u001b[0m \u001b[32m━━━━━━━━━━━━━━━━━━━━\u001b[0m\u001b[37m\u001b[0m \u001b[1m5s\u001b[0m 5ms/step - accuracy: 0.9488 - loss: 0.2949 - val_accuracy: 0.9529 - val_loss: 0.2837\n",
            "Epoch 7/10\n",
            "\u001b[1m938/938\u001b[0m \u001b[32m━━━━━━━━━━━━━━━━━━━━\u001b[0m\u001b[37m\u001b[0m \u001b[1m7s\u001b[0m 7ms/step - accuracy: 0.9521 - loss: 0.2873 - val_accuracy: 0.9528 - val_loss: 0.2726\n",
            "Epoch 8/10\n",
            "\u001b[1m938/938\u001b[0m \u001b[32m━━━━━━━━━━━━━━━━━━━━\u001b[0m\u001b[37m\u001b[0m \u001b[1m10s\u001b[0m 6ms/step - accuracy: 0.9544 - loss: 0.2737 - val_accuracy: 0.9555 - val_loss: 0.2629\n",
            "Epoch 9/10\n",
            "\u001b[1m938/938\u001b[0m \u001b[32m━━━━━━━━━━━━━━━━━━━━\u001b[0m\u001b[37m\u001b[0m \u001b[1m6s\u001b[0m 6ms/step - accuracy: 0.9570 - loss: 0.2647 - val_accuracy: 0.9544 - val_loss: 0.2658\n",
            "Epoch 10/10\n",
            "\u001b[1m938/938\u001b[0m \u001b[32m━━━━━━━━━━━━━━━━━━━━\u001b[0m\u001b[37m\u001b[0m \u001b[1m10s\u001b[0m 6ms/step - accuracy: 0.9564 - loss: 0.2617 - val_accuracy: 0.9599 - val_loss: 0.2454\n",
            "\u001b[1m313/313\u001b[0m \u001b[32m━━━━━━━━━━━━━━━━━━━━\u001b[0m\u001b[37m\u001b[0m \u001b[1m1s\u001b[0m 3ms/step - accuracy: 0.9518 - loss: 0.2711\n",
            "L2 Regularized Model Accuracy: 0.9599000215530396\n"
          ]
        }
      ]
    },
    {
      "cell_type": "markdown",
      "source": [
        "**(C)** Dropout Regularization"
      ],
      "metadata": {
        "id": "z2G-glVkuqjk"
      }
    },
    {
      "cell_type": "code",
      "source": [
        "dropout_model = Sequential([\n",
        "    Flatten(input_shape=(28, 28)),\n",
        "    Dense(128, activation='relu'),\n",
        "    Dropout(0.5),\n",
        "    Dense(10, activation='softmax')\n",
        "])\n",
        "\n",
        "dropout_model.compile(optimizer='adam', loss='categorical_crossentropy', metrics=['accuracy'])\n",
        "\n",
        "dropout_history = dropout_model.fit(x_train, y_train,\n",
        "                                    validation_data=(x_test, y_test),\n",
        "                                    epochs=10,\n",
        "                                    batch_size=64)\n",
        "\n",
        "print(\"Dropout Regularized Model Accuracy:\", dropout_model.evaluate(x_test, y_test)[1])"
      ],
      "metadata": {
        "colab": {
          "base_uri": "https://localhost:8080/"
        },
        "id": "3b9-s3kGuowc",
        "outputId": "14f64896-207a-4c52-acf8-2c303c6258fe"
      },
      "execution_count": null,
      "outputs": [
        {
          "output_type": "stream",
          "name": "stdout",
          "text": [
            "Epoch 1/10\n",
            "\u001b[1m938/938\u001b[0m \u001b[32m━━━━━━━━━━━━━━━━━━━━\u001b[0m\u001b[37m\u001b[0m \u001b[1m5s\u001b[0m 4ms/step - accuracy: 0.7908 - loss: 0.6934 - val_accuracy: 0.9464 - val_loss: 0.1866\n",
            "Epoch 2/10\n",
            "\u001b[1m938/938\u001b[0m \u001b[32m━━━━━━━━━━━━━━━━━━━━\u001b[0m\u001b[37m\u001b[0m \u001b[1m4s\u001b[0m 4ms/step - accuracy: 0.9263 - loss: 0.2487 - val_accuracy: 0.9594 - val_loss: 0.1391\n",
            "Epoch 3/10\n",
            "\u001b[1m938/938\u001b[0m \u001b[32m━━━━━━━━━━━━━━━━━━━━\u001b[0m\u001b[37m\u001b[0m \u001b[1m7s\u001b[0m 6ms/step - accuracy: 0.9417 - loss: 0.1972 - val_accuracy: 0.9653 - val_loss: 0.1145\n",
            "Epoch 4/10\n",
            "\u001b[1m938/938\u001b[0m \u001b[32m━━━━━━━━━━━━━━━━━━━━\u001b[0m\u001b[37m\u001b[0m \u001b[1m9s\u001b[0m 5ms/step - accuracy: 0.9476 - loss: 0.1740 - val_accuracy: 0.9677 - val_loss: 0.1060\n",
            "Epoch 5/10\n",
            "\u001b[1m938/938\u001b[0m \u001b[32m━━━━━━━━━━━━━━━━━━━━\u001b[0m\u001b[37m\u001b[0m \u001b[1m5s\u001b[0m 6ms/step - accuracy: 0.9539 - loss: 0.1572 - val_accuracy: 0.9713 - val_loss: 0.0954\n",
            "Epoch 6/10\n",
            "\u001b[1m938/938\u001b[0m \u001b[32m━━━━━━━━━━━━━━━━━━━━\u001b[0m\u001b[37m\u001b[0m \u001b[1m4s\u001b[0m 5ms/step - accuracy: 0.9583 - loss: 0.1414 - val_accuracy: 0.9727 - val_loss: 0.0909\n",
            "Epoch 7/10\n",
            "\u001b[1m938/938\u001b[0m \u001b[32m━━━━━━━━━━━━━━━━━━━━\u001b[0m\u001b[37m\u001b[0m \u001b[1m6s\u001b[0m 6ms/step - accuracy: 0.9595 - loss: 0.1311 - val_accuracy: 0.9730 - val_loss: 0.0868\n",
            "Epoch 8/10\n",
            "\u001b[1m938/938\u001b[0m \u001b[32m━━━━━━━━━━━━━━━━━━━━\u001b[0m\u001b[37m\u001b[0m \u001b[1m4s\u001b[0m 4ms/step - accuracy: 0.9616 - loss: 0.1292 - val_accuracy: 0.9747 - val_loss: 0.0824\n",
            "Epoch 9/10\n",
            "\u001b[1m938/938\u001b[0m \u001b[32m━━━━━━━━━━━━━━━━━━━━\u001b[0m\u001b[37m\u001b[0m \u001b[1m4s\u001b[0m 4ms/step - accuracy: 0.9641 - loss: 0.1184 - val_accuracy: 0.9750 - val_loss: 0.0856\n",
            "Epoch 10/10\n",
            "\u001b[1m938/938\u001b[0m \u001b[32m━━━━━━━━━━━━━━━━━━━━\u001b[0m\u001b[37m\u001b[0m \u001b[1m7s\u001b[0m 6ms/step - accuracy: 0.9652 - loss: 0.1127 - val_accuracy: 0.9741 - val_loss: 0.0832\n",
            "\u001b[1m313/313\u001b[0m \u001b[32m━━━━━━━━━━━━━━━━━━━━\u001b[0m\u001b[37m\u001b[0m \u001b[1m1s\u001b[0m 2ms/step - accuracy: 0.9693 - loss: 0.0963\n",
            "Dropout Regularized Model Accuracy: 0.9740999937057495\n"
          ]
        }
      ]
    },
    {
      "cell_type": "markdown",
      "source": [
        "**(D)** Combined L1 + L2 Regularization"
      ],
      "metadata": {
        "id": "xV33_vcvutvo"
      }
    },
    {
      "cell_type": "code",
      "source": [
        "l1_l2_model = Sequential([\n",
        "    Flatten(input_shape=(28, 28)),\n",
        "    Dense(128, activation='relu', kernel_regularizer=l1_l2(l1=0.01, l2=0.01)),\n",
        "    Dense(10, activation='softmax')\n",
        "])\n",
        "\n",
        "l1_l2_model.compile(optimizer='adam', loss='categorical_crossentropy', metrics=['accuracy'])\n",
        "\n",
        "l1_l2_history = l1_l2_model.fit(x_train, y_train,\n",
        "                                validation_data=(x_test, y_test),\n",
        "                                epochs=10,\n",
        "                                batch_size=64)\n",
        "\n",
        "print(\"L1 + L2 Regularized Model Accuracy:\", l1_l2_model.evaluate(x_test, y_test)[1])"
      ],
      "metadata": {
        "colab": {
          "base_uri": "https://localhost:8080/"
        },
        "id": "UdV5-KDLusJR",
        "outputId": "62fa7e32-4730-4b43-d519-800435116100"
      },
      "execution_count": null,
      "outputs": [
        {
          "output_type": "stream",
          "name": "stdout",
          "text": [
            "Epoch 1/10\n",
            "\u001b[1m938/938\u001b[0m \u001b[32m━━━━━━━━━━━━━━━━━━━━\u001b[0m\u001b[37m\u001b[0m \u001b[1m7s\u001b[0m 6ms/step - accuracy: 0.7411 - loss: 7.4441 - val_accuracy: 0.8555 - val_loss: 1.2683\n",
            "Epoch 2/10\n",
            "\u001b[1m938/938\u001b[0m \u001b[32m━━━━━━━━━━━━━━━━━━━━\u001b[0m\u001b[37m\u001b[0m \u001b[1m4s\u001b[0m 4ms/step - accuracy: 0.8496 - loss: 1.2357 - val_accuracy: 0.8659 - val_loss: 1.1104\n",
            "Epoch 3/10\n",
            "\u001b[1m938/938\u001b[0m \u001b[32m━━━━━━━━━━━━━━━━━━━━\u001b[0m\u001b[37m\u001b[0m \u001b[1m4s\u001b[0m 4ms/step - accuracy: 0.8577 - loss: 1.1142 - val_accuracy: 0.8747 - val_loss: 1.0372\n",
            "Epoch 4/10\n",
            "\u001b[1m938/938\u001b[0m \u001b[32m━━━━━━━━━━━━━━━━━━━━\u001b[0m\u001b[37m\u001b[0m \u001b[1m5s\u001b[0m 6ms/step - accuracy: 0.8651 - loss: 1.0416 - val_accuracy: 0.8774 - val_loss: 0.9786\n",
            "Epoch 5/10\n",
            "\u001b[1m938/938\u001b[0m \u001b[32m━━━━━━━━━━━━━━━━━━━━\u001b[0m\u001b[37m\u001b[0m \u001b[1m4s\u001b[0m 4ms/step - accuracy: 0.8666 - loss: 1.0029 - val_accuracy: 0.8652 - val_loss: 0.9742\n",
            "Epoch 6/10\n",
            "\u001b[1m938/938\u001b[0m \u001b[32m━━━━━━━━━━━━━━━━━━━━\u001b[0m\u001b[37m\u001b[0m \u001b[1m5s\u001b[0m 4ms/step - accuracy: 0.8723 - loss: 0.9661 - val_accuracy: 0.8769 - val_loss: 0.9334\n",
            "Epoch 7/10\n",
            "\u001b[1m938/938\u001b[0m \u001b[32m━━━━━━━━━━━━━━━━━━━━\u001b[0m\u001b[37m\u001b[0m \u001b[1m6s\u001b[0m 6ms/step - accuracy: 0.8742 - loss: 0.9421 - val_accuracy: 0.8850 - val_loss: 0.8976\n",
            "Epoch 8/10\n",
            "\u001b[1m938/938\u001b[0m \u001b[32m━━━━━━━━━━━━━━━━━━━━\u001b[0m\u001b[37m\u001b[0m \u001b[1m8s\u001b[0m 4ms/step - accuracy: 0.8770 - loss: 0.9208 - val_accuracy: 0.8840 - val_loss: 0.8782\n",
            "Epoch 9/10\n",
            "\u001b[1m938/938\u001b[0m \u001b[32m━━━━━━━━━━━━━━━━━━━━\u001b[0m\u001b[37m\u001b[0m \u001b[1m6s\u001b[0m 6ms/step - accuracy: 0.8783 - loss: 0.9083 - val_accuracy: 0.8899 - val_loss: 0.8596\n",
            "Epoch 10/10\n",
            "\u001b[1m938/938\u001b[0m \u001b[32m━━━━━━━━━━━━━━━━━━━━\u001b[0m\u001b[37m\u001b[0m \u001b[1m4s\u001b[0m 4ms/step - accuracy: 0.8799 - loss: 0.8887 - val_accuracy: 0.8794 - val_loss: 0.8948\n",
            "\u001b[1m313/313\u001b[0m \u001b[32m━━━━━━━━━━━━━━━━━━━━\u001b[0m\u001b[37m\u001b[0m \u001b[1m1s\u001b[0m 2ms/step - accuracy: 0.8656 - loss: 0.9442\n",
            "L1 + L2 Regularized Model Accuracy: 0.8794000148773193\n"
          ]
        }
      ]
    },
    {
      "cell_type": "markdown",
      "source": [
        "**Step 5:** Plot Accuracy and Loss for Comparison"
      ],
      "metadata": {
        "id": "7oE2ylKruv0z"
      }
    },
    {
      "cell_type": "code",
      "source": [
        "def plot_history(histories, title):\n",
        "    plt.figure(figsize=(10,5))\n",
        "\n",
        "    for name, history in histories.items():\n",
        "        plt.plot(history.history['val_accuracy'], label=name)\n",
        "\n",
        "    plt.xlabel('Epochs')\n",
        "    plt.ylabel('Validation Accuracy')\n",
        "    plt.legend()\n",
        "    plt.title(title)\n",
        "    plt.show()\n",
        "\n",
        "# Collect model histories\n",
        "histories = {\n",
        "    \"Baseline\": baseline_history,\n",
        "    \"L1 Regularization\": l1_history,\n",
        "    \"L2 Regularization\": l2_history,\n",
        "    \"Dropout\": dropout_history,\n",
        "    \"L1 + L2 Regularization\": l1_l2_history\n",
        "}\n",
        "\n",
        "plot_history(histories, \"Comparison of Regularization Techniques\")"
      ],
      "metadata": {
        "colab": {
          "base_uri": "https://localhost:8080/",
          "height": 487
        },
        "id": "w3bW_sa_uvBH",
        "outputId": "af5ef119-c0ed-43a7-827b-96b6562da29f"
      },
      "execution_count": null,
      "outputs": [
        {
          "output_type": "display_data",
          "data": {
            "text/plain": [
              "<Figure size 1000x500 with 1 Axes>"
            ],
            "image/png": "[encoded data removed]"
          },
          "metadata": {}
        }
      ]
    }
  ],
  "metadata": {
    "colab": {
      "provenance": [],
      "authorship_tag": "ABX9TyMrWlDr2qFroRA0KuSxmMRC",
      "include_colab_link": true
    },
    "kernelspec": {
      "display_name": "Python 3",
      "name": "python3"
    },
    "language_info": {
      "name": "python"
    }
  },
  "nbformat": 4,
  "nbformat_minor": 0
}